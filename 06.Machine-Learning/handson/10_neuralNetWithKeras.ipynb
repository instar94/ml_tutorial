{
 "cells": [
  {
   "cell_type": "markdown",
   "id": "05787215",
   "metadata": {},
   "source": [
    "# 인공 신경망 소개 with 케라스 \n",
    "\n",
    "> 인공신경망은 뇌에 있는 생물학적 뉴런 네트워크에서 영감을 받은 머신러닝 모델 \n",
    "\n",
    "- 딥러닝의 핵심\n",
    "\n",
    "## 주요 내용 \n",
    "- 인공신경망의 초장기 구조 소개 \n",
    "- `다층 퍼셉트론` 구조 소개 \n",
    "- `케라스`를 이용한 인공 신경망 구현 "
   ]
  },
  {
   "cell_type": "markdown",
   "id": "218a8aed",
   "metadata": {},
   "source": [
    "# 1. 생물학적 뉴런에서 인공 뉴런까지 \n",
    "## 생물학적 뉴런 \n",
    "- `수상돌기` : 신호를 받아들임\n",
    "- `축삭돌기` : 신경 전달 물질을 생성\n",
    "- `시냅스` : 신경 전달 물질을 전달\n",
    "\n",
    "## 뉴런을 사용한 논리 연산 \n",
    "- `인공 뉴런` : 하나 이상의 이진 입력과 출력을 가짐\n",
    "- 단순히 입력이 일정 개수 만큼 활성화 되었을 때 출력\n",
    "- 이러한 구조를 통해 어떤 명제도 계산 가능\n",
    "\n",
    "## 퍼셉트론 \n",
    "### 정의\n",
    "> 퍼셉트론이란 가장 간단한 인공 신경망 구조\n",
    "- `TLU` 혹은 `LTU` 라고도 불림\n",
    "\n",
    "### 원리 \n",
    "- 입력과 출력이 이진값이 아닌 `숫자`이고, 각 입력 연결은 가중치와 연관됨 \n",
    "\n",
    "#### 과정\n",
    "1) 입력 선형 함수 계산 \n",
    "  - 입력 선형 함수 = $z = w_1x_1 + w_2x_2 + ... w_nx_n + b = w^Tx+b $\n",
    "2) `계단 함수` 계산 \n",
    "  - 입력 선형 함수의 결과를 계단 함수 $h_w(x) = step(z)$에 적용 \n",
    "  - `계단 함수` : 그래프를 그렸을 때, 계단처럼 층이 나눠진 함수 \n",
    "  - 주로 `헤비사이드 계산함수` 혹은 `부호 함수`를 사용\n",
    "\n",
    "#### 헤비사이드 계단 함수 \n",
    "$$\n",
    "\\textrm{heaviside(z)} = \\begin{cases}\n",
    "   0 &\\text{if } z<0 \\\\\n",
    "   1 &\\text{if } z \\geq 0\n",
    "\\end{cases}\n",
    "$$\n",
    "  \n",
    "\n",
    "#### 부호 함수 \n",
    "$$\n",
    "\\textrm{sgn(z)} = \\begin{cases}\n",
    "   -1 &\\text{if } z<0 \\\\\n",
    "   0 &\\text{if } z=0 \\\\\n",
    "   +1 &\\text{if } z> 0\n",
    "\\end{cases}\n",
    "$$\n",
    "\n",
    "\n",
    "### 퍼셉트론의 구조 \n",
    "- `밀집층` : TLU가 모든 입력에 연결되어 있는 층\n",
    "- `입력층` : 입력을 구성\n",
    "- `출력층` : 최종 출력을 생성하는 층 \n",
    "\n",
    "### 출력층의 계산 \n",
    "$$\n",
    "h_{W,b}(X) = \\phi(XW + b)\n",
    "$$\n",
    "\n",
    "- $X$ : 입력 특성의 행렬\n",
    "  - 행 : 샘플 \n",
    "  - 열 : 특성 \n",
    "- $W$ : 가중치 행렬 \n",
    "  - 모든 연결 가중치 포함 \n",
    "  - 행 : 입력 \n",
    "  - 열 : 출력층의 뉴런 \n",
    "- $b$ : 편향 벡터 \n",
    "  - 모든 뉴런의 편향을 포함\n",
    "- $\\phi$ : 활성화 함수 \n",
    "  - TLU의 경우 계단함수 \n",
    "\n",
    "### 퍼셉트론의 훈련 \n",
    "> 퍼셉트론은 `헤브의 규칙` 알고리즘을 이용하여 학습 \n",
    "- 뉴런이 다른 뉴런을 활성화 시킬 때 이 두 뉴런의 연결이 강해진다고 제안 \n",
    "- 즉, 뉴런이 `동시에 활성화` 될 때 마다 이들 사이의 `연결 가중치`가  증가하는 경향 \n",
    "\n",
    "#### 원리 \n",
    "- 퍼셉트론은 네트워크가 예측 할 때 만드는 오차를 반영하도록 조금 변형된 규칙을 사용하여 훈련\n",
    "- `오차`가 `감소`되도록 연결을 강화 \n",
    "  - 한 개의 샘플이 주입되면 각 샘플에 대한 예측이 만들어짐 \n",
    "  - `잘못된 예측` -> 입력 가중치 강화 \n",
    "\n",
    "#### 퍼셉트론의 가중치 업데이트 규칙\n",
    "$$ \n",
    "w_{i,j}^{(\\textrm{next step})} = w_{i,j} + \\eta \\cdot (y_j - \\hat{y}_j) \\cdot x_i\n",
    "$$\n",
    "\n",
    "|기호|의미|\n",
    "|---|---|\n",
    "|$w_{i,j}$ | i번째 입력 뉴런과 j 번째 출력 뉴런 사이 `연결 가중치`|\n",
    "|$x_i$ | 현재 훈련 샘플의 i번째 뉴런의 `입력값`|\n",
    "|$\\hat{y}_j$ | 현재 훈련 샘플의 j번째 출력 뉴런의 `출력값`|\n",
    "|$y_j$ | 현재 훈련 샘플의 j번째 뉴런의 `타깃값`|\n",
    "|$\\eta$ | 학습률|\n",
    "\n",
    "#### 퍼셉트론 수렴 이론 \n",
    "- 출력 뉴런의 결정 경계는 `선형`\n",
    "  - 복잡한 패턴의 경우 학습 불가 \n",
    "- 훈련 샘플이 선형적으로 구분 될 수 있다면 정답에 수렴할 수 있음 \n",
    "\n",
    "\n",
    "### 사이킷런에서 퍼셉트론 구현하기 \n",
    "- 클래스 : Perceptron\n",
    "  - SGD로 구현 가능 \n",
    "  - loss = \"perceptron\"\n",
    "  - learning_rate=\"constant\"\n",
    "  - eat0=1\n",
    "  - penalty=None"
   ]
  },
  {
   "cell_type": "markdown",
   "id": "384eead5",
   "metadata": {},
   "source": [
    "- 예시 : 붓꽃 데이터를 이용한 퍼셉트론 실습"
   ]
  },
  {
   "cell_type": "code",
   "execution_count": 49,
   "id": "d3745c04",
   "metadata": {},
   "outputs": [
    {
     "name": "stdout",
     "output_type": "stream",
     "text": [
      "예측 확인 :  [ True False]\n"
     ]
    }
   ],
   "source": [
    "import numpy as np\n",
    "from sklearn.datasets import load_iris\n",
    "from sklearn.linear_model import Perceptron\n",
    "\n",
    "### 붓꽃 데이터 로드 \n",
    "iris = load_iris(as_frame=True)\n",
    "X=iris.data[[\"petal length (cm)\",\"petal width (cm)\"]].values\n",
    "\n",
    "### 종이 Iris-setosa 인 것만\n",
    "y=(iris.target==0)\n",
    "\n",
    "### 모델 학습\n",
    "per_clf = Perceptron(random_state=42)\n",
    "per_clf.fit(X,y)\n",
    "\n",
    "###예측 시행 \n",
    "X_new = [[2,0.5],[3,1]]\n",
    "y_pred = per_clf.predict(X_new)\n",
    "print(\"예측 확인 : \", y_pred)"
   ]
  },
  {
   "cell_type": "markdown",
   "id": "0ee4dca9",
   "metadata": {},
   "source": [
    "## 다중 퍼셉트론(MLP)\n",
    "> 퍼셉트론을 여러 개 쌓아올려 일부의 제약을 줄임 \n",
    "- 퍼셉트론에서 사용 할 수 없었던 `XOR`을 `다중 퍼셉트론`에서는 해결 가능 \n",
    "\n",
    "### 구성 \n",
    "- 입력층 \n",
    "  - 입력층과 가까운 층 = `하위층`\n",
    "- 출력층 \n",
    "  - 출력층과 가까운 층 = `상위층`\n",
    "- `은닉층`\n",
    "  - 은닉층을 여러 개 쌓아올린 신경망 = `심층신경망(DNN)`\n",
    "\n",
    "### 후진 모드 자동 비분\n",
    "- 모든 그레디언트를 자동으로 효율적으로 계산하는 기법 \n",
    "\n",
    "### 역전파\n",
    "- 네트워크를 두 번만 통과(전진, 후진)하면 모든 단일 `파라미터`에 대한 `신경망 오차`의 그레디언트를 계산 가능 \n",
    "- 신경망의 오차를 줄이기 위해 `가중치`와 `편향`을 조정 후 경사하강법 수행 \n",
    "- 과정을 반복하면 신경망의 오차가 점차 감소 \n",
    "\n",
    "#### 역전파의 작동 방식\n",
    "##### 정방향 계산 \n",
    "- `에포크` 진행\n",
    "  - `에포트` : 하나의 미니 배치씩 진행하여 전체 훈련세트를 처리르 반복 \n",
    "- 미니배치를 `입력층`을 통해 `네트워크`에 넣음 \n",
    "- 첫번째 은닉층에 있는 모든 뉴런의 출력 계산 \n",
    "- 다음 층의 출력을 계산 후 다음층으로 전달 \n",
    "- 출력층에서 값 출력\n",
    "\n",
    "##### 역방향 계산 \n",
    "- 알고리즘이 네트워크의 출력 오차를 측정 \n",
    "  - 손실 함수를 이용하여 기대하는 출력과 실제 출력 사이 비교 \n",
    "- 출력 오차와 `출력 층의 각 연결`이 오차에 얼마나 기여 했는지 계산 \n",
    "  - 미분의 `연쇄 법칙`을 이용 \n",
    "- 연쇄 법칙을 이용해 이전 층의 `연결 가중치`가 오차에 얼마나 기여하는지 측정 \n",
    "- 입력층에 도달 할 때까지 `역방향`으로 계산 \n",
    "- 오차 그레디언트를 거꾸로 전파함으로서 모든 연결 가중치와 편향에 대한 `오차 그레디언트`를 측정 \n",
    "\n",
    "##### 경사하강법 단계\n",
    "- `오차 그레디언트`를 사용해 모든 `연결 가중치 `수정 \n",
    "\n",
    "### 활성화 함수 \n",
    "- `시그모이드 함수` 로 변경 \n",
    "- 시그모이드 함수 $\\sigma(z) = 1/ 1(1+\\textrm{exp}(-z))$\n",
    "\n",
    "- 시그모이드 말고 다른 활성화 함수를 사용 할 수도 있음 \n",
    "\n",
    "|함수 명|읽는 법|계산식|설명|\n",
    "|---|---|---|---|\n",
    "|tanh 함수|하이퍼볼릭 탄젠트 함수| $\\textrm{tahn}(z) = 2\\sigma (2z) -1$|출력 범위가 -1 ~ 1 , 훈련 초기 각 층의 출력을 원점으로 모으는 경향이 있음|\n",
    "|ReLU함수|렐루함수|$\\textrm{ReLU}(z) = \\textrm{max}(0,z)$|z=0에서 미분이 가능하지 않음 , 출력의 최대값이 없고 경사 하강법에 있는 일부 문제를 완화|\n",
    "\n",
    "\n",
    "#### 활성화 함수가 필요한 이유 \n",
    "- 선형 변환을 여러 번 해도 결과는 언제나 `선형`임 \n",
    "- 층 사이에 `비선형성`을 추가 하지 않는 이상 계속 `선형`적임 \n",
    "- 지속적으로 선형만 사용한다면 복잡한 문제를 풀 수 없음 \n",
    "- `비선형 활성화 함수`가 있고 충분히 큰 심층 신경망은 이론적으로 `어떤 연속 함수`도 근사 가능 "
   ]
  },
  {
   "cell_type": "markdown",
   "id": "ec52c492",
   "metadata": {},
   "source": [
    "- 활성화 함수와 해당 함수의 도함수"
   ]
  },
  {
   "cell_type": "code",
   "execution_count": 50,
   "id": "cca069fa",
   "metadata": {},
   "outputs": [],
   "source": [
    "import matplotlib.pyplot as plt\n",
    "import matplotlib.font_manager as fm\n",
    "import matplotlib\n",
    "import sys\n",
    "import warnings\n",
    "# UserWarning 카테고리의 모든 경고를 무시\n",
    "warnings.filterwarnings(\"ignore\", category=UserWarning)\n",
    "\n",
    "\n",
    "if 'google.colab' in sys.modules:\n",
    "    !sudo apt-get -qq -y install fonts-nanum\n",
    "    import matplotlib.font_manager as fm\n",
    "    font_files = fm.findSystemFonts(fontpaths=['/usr/share/fonts/truetype/nanum'])\n",
    "    for fpath in font_files:\n",
    "        fm.fontManager.addfont(fpath)\n",
    "\n",
    "plt.rc('font', size=14)\n",
    "plt.rc('axes', labelsize=14, titlesize=14)\n",
    "plt.rc('legend', fontsize=14)\n",
    "plt.rc('xtick', labelsize=10)\n",
    "plt.rc('ytick', labelsize=10)\n",
    "matplotlib.rc('font', family='NanumBarunGothic')\n",
    "matplotlib.rcParams['axes.unicode_minus'] = False"
   ]
  },
  {
   "cell_type": "code",
   "execution_count": 51,
   "id": "9ca592c7",
   "metadata": {},
   "outputs": [
    {
     "data": {
      "image/png": "[encoded data removed]",
      "text/plain": [
       "<Figure size 1100x310 with 2 Axes>"
      ]
     },
     "metadata": {},
     "output_type": "display_data"
    }
   ],
   "source": [
    "from scipy.special import expit as sigmoid\n",
    "\n",
    "def relu(z):\n",
    "    return np.maximum(0, z)\n",
    "\n",
    "def derivative(f, z, eps=0.000001):\n",
    "    return (f(z + eps) - f(z - eps))/(2 * eps)\n",
    "\n",
    "max_z = 4.5\n",
    "z = np.linspace(-max_z, max_z, 200)\n",
    "\n",
    "plt.figure(figsize=(11, 3.1))\n",
    "\n",
    "plt.subplot(121)\n",
    "plt.plot([-max_z, 0], [0, 0], \"r-\", linewidth=2, label=\"Heaviside\")\n",
    "plt.plot(z, relu(z), \"m-.\", linewidth=2, label=\"ReLU\")\n",
    "plt.plot([0, 0], [0, 1], \"r-\", linewidth=0.5)\n",
    "plt.plot([0, max_z], [1, 1], \"r-\", linewidth=2)\n",
    "plt.plot(z, sigmoid(z), \"g--\", linewidth=2, label=\"Sigmoid\")\n",
    "plt.plot(z, np.tanh(z), \"b-\", linewidth=1, label=\"Tanh\")\n",
    "plt.grid(True)\n",
    "plt.title(\"활성화 함수\")\n",
    "plt.axis([-max_z, max_z, -1.65, 2.4])\n",
    "plt.gca().set_yticks([-1, 0, 1, 2])\n",
    "plt.legend(loc=\"lower right\", fontsize=13)\n",
    "\n",
    "plt.subplot(122)\n",
    "plt.plot(z, derivative(np.sign, z), \"r-\", linewidth=2, label=\"Heaviside\")\n",
    "plt.plot(0, 0, \"ro\", markersize=5)\n",
    "plt.plot(0, 0, \"rx\", markersize=10)\n",
    "plt.plot(z, derivative(sigmoid, z), \"g--\", linewidth=2, label=\"Sigmoid\")\n",
    "plt.plot(z, derivative(np.tanh, z), \"b-\", linewidth=1, label=\"Tanh\")\n",
    "plt.plot([-max_z, 0], [0, 0], \"m-.\", linewidth=2)\n",
    "plt.plot([0, max_z], [1, 1], \"m-.\", linewidth=2)\n",
    "plt.plot([0, 0], [0, 1], \"m-.\", linewidth=1.2)\n",
    "plt.plot(0, 1, \"mo\", markersize=5)\n",
    "plt.plot(0, 1, \"mx\", markersize=10)\n",
    "plt.grid(True)\n",
    "plt.title(\"도함수\")\n",
    "plt.axis([-max_z, max_z, -0.2, 1.2])\n",
    "\n",
    "plt.show()"
   ]
  },
  {
   "cell_type": "markdown",
   "id": "69e02997",
   "metadata": {},
   "source": [
    "### 회귀를 위한 다층 퍼셉트론 \n",
    "- 값 하나를 예측 하기 위해 출력 뉴런 하나만 필요 \n",
    "    - 뉴런의 출력이 예측 값이 됨\n",
    "- 다변량 회귀 에서는 출력 차원마다 출력 뉴런이 하나씩 필요 \n",
    "\n",
    "#### 사이킷 런에서의 회귀 \n",
    "- `MLPRegressor` 클래스 사용\n",
    "- 출력층에서 `활성화 함수`를 사용하지 않기 때문에 원하는 값을 자유롭게 출력 가능 \n",
    "- 출력이 항상 양수임을 보장하려면 출력층에  `ReLU`함수 사용\n",
    "\n",
    "- 회귀 MLP의 전형적인 구조 \n",
    "\n",
    "|하이퍼파라미터|일반적인 값|\n",
    "|----|----|\n",
    "|은닉층 수|일반적으로 다름 (1~5)|\n",
    "|은닉층 뉴런 수|문제마다 다름 (10~100)|\n",
    "|출력 뉴런 수|예측 차원마다 하나|\n",
    "|은닉 층의 활성화 함수|ReLU|\n",
    "|출력 층의 활성화 함수| 없음 / 출력이 양수 - ReLU나 소프트 플러스|\n",
    "|손실함수|MSE 혹은 후버(이상치 있을 시)|\n"
   ]
  },
  {
   "cell_type": "markdown",
   "id": "f4d71742",
   "metadata": {},
   "source": [
    "- 예시 \n",
    "  - 50개의 뉴런을 가진 3개의 은닉층 을 가진 MLP\n",
    "  - 입력특성을 표준화 하기 위해 파이프라인 생성 \n",
    "  - 은닉층은 `relu` 활성화 함수 사용\n",
    "  - 평균 제곱 오차를 최소화 하기 위해 `Adam` 사용해 L2 정규화 적용"
   ]
  },
  {
   "cell_type": "code",
   "execution_count": null,
   "id": "87a2bb7a",
   "metadata": {},
   "outputs": [
    {
     "name": "stdout",
     "output_type": "stream",
     "text": [
      "검증 데이터 평균 제곱 오차 (RMSE): 0.5053326657968513\n"
     ]
    }
   ],
   "source": [
    "from sklearn.datasets import fetch_california_housing\n",
    "from sklearn.metrics import mean_squared_error\n",
    "from sklearn.model_selection import train_test_split\n",
    "from sklearn.neural_network import MLPRegressor\n",
    "from sklearn.pipeline import make_pipeline\n",
    "from sklearn.preprocessing import StandardScaler\n",
    "\n",
    "### 데이터 로드 \n",
    "housing = fetch_california_housing()\n",
    "\n",
    "### 훈련-테스트 데이터 분할 \n",
    "X_train, X_test, y_train, y_test = train_test_split(\n",
    "    housing.data, housing.target, random_state=42)\n",
    "\n",
    "### 훈련 - 검증 데이터 분할 \n",
    "X_train, X_val, y_train, y_val = train_test_split(\n",
    "    X_train, y_train, random_state=42)\n",
    "\n",
    "### 객체 생성 \n",
    "mlp_reg = MLPRegressor(\n",
    "    hidden_layer_sizes=[50, 50, 50], \n",
    "    random_state=42\n",
    ")\n",
    "\n",
    "### 파이프라인 생성\n",
    "pipeline = make_pipeline(\n",
    "    StandardScaler(),\n",
    "    mlp_reg\n",
    ")\n",
    "\n",
    "### 모델 학습\n",
    "pipeline.fit(X_train, y_train)\n",
    "\n",
    "### 검증 데이터로 예측\n",
    "y_val_predict = pipeline.predict(X_val)\n",
    "### 평균 제곱 오차 계산 - 성능 예측\n",
    "rmse =np.sqrt( mean_squared_error(y_val, y_val_predict))\n",
    "print(\"검증 데이터 평균 제곱 오차 (RMSE):\", rmse)"
   ]
  },
  {
   "cell_type": "markdown",
   "id": "579b85f9",
   "metadata": {},
   "source": [
    "### 분류를 위한 다층 퍼셉트론 \n",
    "- 이진 분류 문제 : 시그모이드 활성화 함수를 가진 하나의 출력 뉴런만 필요 \n",
    "  - 0 또는 1로 분류\n",
    "  - 양성 클래스에 대한 확률로도 해석 가능 \n",
    "\n",
    "#### 사이킷런에서의 분류\n",
    "- `MLPClassifier` 클래스 사용\n",
    "\n",
    "#### 다중 레이블 분류\n",
    "\n",
    "|하이퍼파라미터|이진분류|다중레이블분류|다중분류|\n",
    "|---|---|---|---|\n",
    "|은닉층 수|1개|이진 레이블 마다 1개|클래스 마다 1개|\n",
    "|출력 뉴런 수|1개|이진 레이블 마다 1개|클래스마다 1개|\n",
    "|출력 층의 활성화 함수|시그모이드|시그모이드|소프트맥스|\n",
    "|손실 함수|크로스 엔트로피|크로스 엔트로피|크로스 엔트로피|\n"
   ]
  },
  {
   "cell_type": "code",
   "execution_count": 53,
   "id": "0494338f",
   "metadata": {},
   "outputs": [
    {
     "name": "stdout",
     "output_type": "stream",
     "text": [
      "accuracy :  1.0\n"
     ]
    }
   ],
   "source": [
    "from sklearn.datasets import load_iris\n",
    "from sklearn.model_selection import train_test_split\n",
    "from sklearn.neural_network import MLPClassifier\n",
    "\n",
    "iris = load_iris()\n",
    "X_train_full, X_test, y_train_full, y_test = train_test_split(\n",
    "    iris.data, iris.target, test_size=0.1, random_state=42)\n",
    "X_train, X_valid, y_train, y_valid = train_test_split(\n",
    "    X_train_full, y_train_full, test_size=0.1, random_state=42)\n",
    "\n",
    "mlp_clf = MLPClassifier(hidden_layer_sizes=[5], max_iter=10_000,\n",
    "                        random_state=42)\n",
    "pipeline = make_pipeline(StandardScaler(), mlp_clf)\n",
    "pipeline.fit(X_train, y_train)\n",
    "accuracy = pipeline.score(X_valid, y_valid)\n",
    "print(\"accuracy : \", accuracy)"
   ]
  },
  {
   "cell_type": "markdown",
   "id": "777fc09b",
   "metadata": {},
   "source": [
    "# 2. 케라스를 이용한 MLP 구현 \n",
    "\n",
    "## 케라스 \n",
    "- 모든 종류의 신경망을 손쉽게 만들고 훈련,평가, 실행 할 수 있는 텐서플로의 고수준 딥러닝 API\n",
    "\n",
    "### 케라스에서 딥러닝 하는 방법 \n",
    "1. 시퀀셜 API \n",
    "2. 함수형 API\n",
    "3. 서브클래싱 API"
   ]
  },
  {
   "cell_type": "markdown",
   "id": "87936b35",
   "metadata": {},
   "source": [
    "## 시퀀셜 API를 이용한 이미지 분류기"
   ]
  },
  {
   "cell_type": "markdown",
   "id": "74c75eec",
   "metadata": {},
   "source": [
    "- 예시 : 패션 MNIST 데이터셋을 이용한 MLP 분류기 생성"
   ]
  },
  {
   "cell_type": "markdown",
   "id": "08ae1c33",
   "metadata": {},
   "source": [
    "- 데이터셋 적재 \n",
    "  - 훈련 세트 : 6만개 (검증세트 5천개)\n",
    "  - 테스트 세트 : 1만개 \n",
    "- `2D` 데이터 (28 x 28)로 생성 (sklearn은 1D)\n",
    "- 픽셀 강도를 0~255 -> 0~1로 변경"
   ]
  },
  {
   "cell_type": "code",
   "execution_count": 54,
   "id": "8ba9063d",
   "metadata": {},
   "outputs": [
    {
     "name": "stdout",
     "output_type": "stream",
     "text": [
      "훈련 데이터 갯수,행,열 :  (55000, 28, 28)\n",
      "훈련 데이터 타입 :  uint8\n",
      "클래스 이름 :  Ankle boot\n"
     ]
    }
   ],
   "source": [
    "import tensorflow as tf\n",
    "\n",
    "fashion_mnist = tf.keras.datasets.fashion_mnist.load_data()\n",
    "(X_train_full, y_train_full), (X_test, y_test) = fashion_mnist\n",
    "\n",
    "### 훈련 - 검증 데이터 분할\n",
    "X_train, y_train = X_train_full[:-5000], y_train_full[:-5000]\n",
    "X_valid, y_valid = X_train_full[-5000:], y_train_full[-5000:]\n",
    "\n",
    "### 훈련 데이터 확인 \n",
    "print(\"훈련 데이터 갯수,행,열 : \", X_train.shape)\n",
    "\n",
    "### 훈련 데이터의 타입 확인 \n",
    "print(\"훈련 데이터 타입 : \", X_train.dtype)\n",
    "\n",
    "### 픽셀의 강도 전처리 (표준화)\n",
    "X_train, X_valid, X_test = X_train / 255., X_valid / 255., X_test / 255.\n",
    "\n",
    "### 클래스 리스트 생성 \n",
    "class_names = [\"T-shirt/top\", \"Trouser\", \"Pullover\", \"Dress\", \"Coat\",\"Sandal\", \"Shirt\", \"Sneaker\", \"Bag\", \"Ankle boot\"]\n",
    "\n",
    "### 첫번째 데이터의 클래스 확인 \n",
    "print(\"클래스 이름 : \", class_names[y_train[0]])"
   ]
  },
  {
   "cell_type": "markdown",
   "id": "a3221f5c",
   "metadata": {},
   "source": [
    "### 시퀀셜 API 모델 생성 \n",
    "- 두 개의 은닉층으로 이루어진 분류용 다층 퍼셉트론 모델 생성 \n",
    "- 구성 \n",
    "  - 입력층 \n",
    "  - Flatten층 추가 \n",
    "  - 은닉층 2개 추가  - ReLU 함수 \n",
    "  - 출력층 추가 - 소프트맥스 활성화 함수\n",
    "\n",
    "#### 정보 확인 매소드\n",
    "- `summary()` 매소드를 이용하여 층 정보 출력 가능\n",
    "- `layer` 속성을 이용해 층 목록 확인 가능\n",
    "- `get_layer()` : 층 이름 선택 가능  \n",
    "- `get_weights() / set_weights` : 각 파라미터에 대한 접근 "
   ]
  },
  {
   "cell_type": "code",
   "execution_count": 55,
   "id": "5b5cb80f",
   "metadata": {},
   "outputs": [],
   "source": [
    "### 랜덤 시드 설정 \n",
    "tf.random.set_seed(42)\n",
    "\n",
    "### 시퀀셜 API 모델 생성\n",
    "model = tf.keras.Sequential()\n",
    "\n",
    "### 입력층 추가\n",
    "model.add(tf.keras.layers.Input(shape=[28, 28]))\n",
    "\n",
    "### Flatten 층 추가 - 2D 데이터를 1D로 변환\n",
    "model.add(tf.keras.layers.Flatten())\n",
    "\n",
    "### 은닉층 추가  - ReLU 활성화 함수 사용\n",
    "model.add(tf.keras.layers.Dense(300, activation=\"relu\"))\n",
    "model.add(tf.keras.layers.Dense(100, activation=\"relu\"))\n",
    "\n",
    "### 출력층 추가 - 소프트맥스 활성화 함수 사용\n",
    "model.add(tf.keras.layers.Dense(10, activation=\"softmax\"))"
   ]
  },
  {
   "cell_type": "code",
   "execution_count": 56,
   "id": "e3b091c2",
   "metadata": {},
   "outputs": [],
   "source": [
    "### 위의 코드를 아래와 같이 줄여서 표현 가능 \n",
    "model = tf.keras.Sequential([\n",
    "    tf.keras.layers.Flatten(input_shape=[28, 28]),\n",
    "    tf.keras.layers.Dense(300, activation=\"relu\"),\n",
    "    tf.keras.layers.Dense(100, activation=\"relu\"),\n",
    "    tf.keras.layers.Dense(10, activation=\"softmax\")\n",
    "])"
   ]
  },
  {
   "cell_type": "markdown",
   "id": "573eb4be",
   "metadata": {},
   "source": [
    "- `summary` : 층 정보 출력 \n",
    "  - `Dense`층은 많은 파라미터를 가짐 \n",
    "    - 784 x 300 개의 연결 가중치 + 300개의 편향 \n",
    "    - 모델 학습의 충분한 유연성을 가짐 \n",
    "    - 과대적합의 위험이 있음 "
   ]
  },
  {
   "cell_type": "code",
   "execution_count": 57,
   "id": "581ccc2f",
   "metadata": {},
   "outputs": [
    {
     "data": {
      "text/html": [
       "<pre style=\"white-space:pre;overflow-x:auto;line-height:normal;font-family:Menlo,'DejaVu Sans Mono',consolas,'Courier New',monospace\"><span style=\"font-weight: bold\">Model: \"sequential_1\"</span>\n",
       "</pre>\n"
      ],
      "text/plain": [
       "\u001b[1mModel: \"sequential_1\"\u001b[0m\n"
      ]
     },
     "metadata": {},
     "output_type": "display_data"
    },
    {
     "data": {
      "text/html": [
       "<pre style=\"white-space:pre;overflow-x:auto;line-height:normal;font-family:Menlo,'DejaVu Sans Mono',consolas,'Courier New',monospace\">┏━━━━━━━━━━━━━━━━━━━━━━━━━━━━━━━━━┳━━━━━━━━━━━━━━━━━━━━━━━━┳━━━━━━━━━━━━━━━┓\n",
       "┃<span style=\"font-weight: bold\"> Layer (type)                    </span>┃<span style=\"font-weight: bold\"> Output Shape           </span>┃<span style=\"font-weight: bold\">       Param # </span>┃\n",
       "┡━━━━━━━━━━━━━━━━━━━━━━━━━━━━━━━━━╇━━━━━━━━━━━━━━━━━━━━━━━━╇━━━━━━━━━━━━━━━┩\n",
       "│ flatten_1 (<span style=\"color: #0087ff; text-decoration-color: #0087ff\">Flatten</span>)             │ (<span style=\"color: #00d7ff; text-decoration-color: #00d7ff\">None</span>, <span style=\"color: #00af00; text-decoration-color: #00af00\">784</span>)            │             <span style=\"color: #00af00; text-decoration-color: #00af00\">0</span> │\n",
       "├─────────────────────────────────┼────────────────────────┼───────────────┤\n",
       "│ dense_12 (<span style=\"color: #0087ff; text-decoration-color: #0087ff\">Dense</span>)                │ (<span style=\"color: #00d7ff; text-decoration-color: #00d7ff\">None</span>, <span style=\"color: #00af00; text-decoration-color: #00af00\">300</span>)            │       <span style=\"color: #00af00; text-decoration-color: #00af00\">235,500</span> │\n",
       "├─────────────────────────────────┼────────────────────────┼───────────────┤\n",
       "│ dense_13 (<span style=\"color: #0087ff; text-decoration-color: #0087ff\">Dense</span>)                │ (<span style=\"color: #00d7ff; text-decoration-color: #00d7ff\">None</span>, <span style=\"color: #00af00; text-decoration-color: #00af00\">100</span>)            │        <span style=\"color: #00af00; text-decoration-color: #00af00\">30,100</span> │\n",
       "├─────────────────────────────────┼────────────────────────┼───────────────┤\n",
       "│ dense_14 (<span style=\"color: #0087ff; text-decoration-color: #0087ff\">Dense</span>)                │ (<span style=\"color: #00d7ff; text-decoration-color: #00d7ff\">None</span>, <span style=\"color: #00af00; text-decoration-color: #00af00\">10</span>)             │         <span style=\"color: #00af00; text-decoration-color: #00af00\">1,010</span> │\n",
       "└─────────────────────────────────┴────────────────────────┴───────────────┘\n",
       "</pre>\n"
      ],
      "text/plain": [
       "┏━━━━━━━━━━━━━━━━━━━━━━━━━━━━━━━━━┳━━━━━━━━━━━━━━━━━━━━━━━━┳━━━━━━━━━━━━━━━┓\n",
       "┃\u001b[1m \u001b[0m\u001b[1mLayer (type)                   \u001b[0m\u001b[1m \u001b[0m┃\u001b[1m \u001b[0m\u001b[1mOutput Shape          \u001b[0m\u001b[1m \u001b[0m┃\u001b[1m \u001b[0m\u001b[1m      Param #\u001b[0m\u001b[1m \u001b[0m┃\n",
       "┡━━━━━━━━━━━━━━━━━━━━━━━━━━━━━━━━━╇━━━━━━━━━━━━━━━━━━━━━━━━╇━━━━━━━━━━━━━━━┩\n",
       "│ flatten_1 (\u001b[38;5;33mFlatten\u001b[0m)             │ (\u001b[38;5;45mNone\u001b[0m, \u001b[38;5;34m784\u001b[0m)            │             \u001b[38;5;34m0\u001b[0m │\n",
       "├─────────────────────────────────┼────────────────────────┼───────────────┤\n",
       "│ dense_12 (\u001b[38;5;33mDense\u001b[0m)                │ (\u001b[38;5;45mNone\u001b[0m, \u001b[38;5;34m300\u001b[0m)            │       \u001b[38;5;34m235,500\u001b[0m │\n",
       "├─────────────────────────────────┼────────────────────────┼───────────────┤\n",
       "│ dense_13 (\u001b[38;5;33mDense\u001b[0m)                │ (\u001b[38;5;45mNone\u001b[0m, \u001b[38;5;34m100\u001b[0m)            │        \u001b[38;5;34m30,100\u001b[0m │\n",
       "├─────────────────────────────────┼────────────────────────┼───────────────┤\n",
       "│ dense_14 (\u001b[38;5;33mDense\u001b[0m)                │ (\u001b[38;5;45mNone\u001b[0m, \u001b[38;5;34m10\u001b[0m)             │         \u001b[38;5;34m1,010\u001b[0m │\n",
       "└─────────────────────────────────┴────────────────────────┴───────────────┘\n"
      ]
     },
     "metadata": {},
     "output_type": "display_data"
    },
    {
     "data": {
      "text/html": [
       "<pre style=\"white-space:pre;overflow-x:auto;line-height:normal;font-family:Menlo,'DejaVu Sans Mono',consolas,'Courier New',monospace\"><span style=\"font-weight: bold\"> Total params: </span><span style=\"color: #00af00; text-decoration-color: #00af00\">266,610</span> (1.02 MB)\n",
       "</pre>\n"
      ],
      "text/plain": [
       "\u001b[1m Total params: \u001b[0m\u001b[38;5;34m266,610\u001b[0m (1.02 MB)\n"
      ]
     },
     "metadata": {},
     "output_type": "display_data"
    },
    {
     "data": {
      "text/html": [
       "<pre style=\"white-space:pre;overflow-x:auto;line-height:normal;font-family:Menlo,'DejaVu Sans Mono',consolas,'Courier New',monospace\"><span style=\"font-weight: bold\"> Trainable params: </span><span style=\"color: #00af00; text-decoration-color: #00af00\">266,610</span> (1.02 MB)\n",
       "</pre>\n"
      ],
      "text/plain": [
       "\u001b[1m Trainable params: \u001b[0m\u001b[38;5;34m266,610\u001b[0m (1.02 MB)\n"
      ]
     },
     "metadata": {},
     "output_type": "display_data"
    },
    {
     "data": {
      "text/html": [
       "<pre style=\"white-space:pre;overflow-x:auto;line-height:normal;font-family:Menlo,'DejaVu Sans Mono',consolas,'Courier New',monospace\"><span style=\"font-weight: bold\"> Non-trainable params: </span><span style=\"color: #00af00; text-decoration-color: #00af00\">0</span> (0.00 B)\n",
       "</pre>\n"
      ],
      "text/plain": [
       "\u001b[1m Non-trainable params: \u001b[0m\u001b[38;5;34m0\u001b[0m (0.00 B)\n"
      ]
     },
     "metadata": {},
     "output_type": "display_data"
    }
   ],
   "source": [
    "model.summary()"
   ]
  },
  {
   "cell_type": "markdown",
   "id": "01b92a27",
   "metadata": {},
   "source": [
    "- `layers` : 층 정보 출력"
   ]
  },
  {
   "cell_type": "code",
   "execution_count": 58,
   "id": "7c0b3587",
   "metadata": {},
   "outputs": [
    {
     "name": "stdout",
     "output_type": "stream",
     "text": [
      "모델의 층 정보 출력 : layer\n"
     ]
    },
    {
     "data": {
      "text/plain": [
       "[<Flatten name=flatten_1, built=True>,\n",
       " <Dense name=dense_12, built=True>,\n",
       " <Dense name=dense_13, built=True>,\n",
       " <Dense name=dense_14, built=True>]"
      ]
     },
     "execution_count": 58,
     "metadata": {},
     "output_type": "execute_result"
    }
   ],
   "source": [
    "print(\"모델의 층 정보 출력 : layer\")\n",
    "model.layers"
   ]
  },
  {
   "cell_type": "markdown",
   "id": "4ae96556",
   "metadata": {},
   "source": [
    "- `get_layer()` : 층 이름 선택 가능 "
   ]
  },
  {
   "cell_type": "code",
   "execution_count": 60,
   "id": "8bf3032b",
   "metadata": {},
   "outputs": [
    {
     "name": "stdout",
     "output_type": "stream",
     "text": [
      "특정 층 정보 확인\n",
      "층 이름 :  dense_12\n",
      "model.get_layer('dense_12') is hidden1 : True\n"
     ]
    }
   ],
   "source": [
    "print(\"특정 층 정보 확인\")\n",
    "hidden1 = model.layers[1]\n",
    "print(\"층 이름 : \", hidden1.name)\n",
    "print(f\"model.get_layer('dense_12') is hidden1 : {model.get_layer('dense_12') is hidden1}\")\n"
   ]
  },
  {
   "cell_type": "markdown",
   "id": "5ab9d51a",
   "metadata": {},
   "source": [
    "- 가중치와 편향 확인"
   ]
  },
  {
   "cell_type": "code",
   "execution_count": 61,
   "id": "311bf747",
   "metadata": {},
   "outputs": [
    {
     "name": "stdout",
     "output_type": "stream",
     "text": [
      "가중치 \n",
      " [[-7.22535327e-02 -6.05281368e-02  6.26243502e-02 -7.25335255e-02\n",
      "  -3.67427953e-02  4.54234332e-02 -3.94190811e-02  1.95200965e-02\n",
      "   3.72037664e-02  6.62807673e-02 -4.74712513e-02 -5.14061302e-02\n",
      "  -5.93207777e-04 -1.96041763e-02 -4.14579585e-02  5.82841039e-02\n",
      "   2.56276131e-02  6.45793825e-02  3.78545150e-02 -1.77525952e-02\n",
      "   7.06805885e-02  3.24220806e-02  1.86607912e-02  4.74618822e-02\n",
      "  -3.66928615e-02 -6.92915097e-02 -1.53467394e-02 -3.37472595e-02\n",
      "  -4.36717868e-02 -5.30765019e-02 -2.55266502e-02  6.58753067e-02\n",
      "   6.50259405e-02 -5.41549996e-02 -5.14048673e-02 -1.68399997e-02\n",
      "  -7.21252337e-02  6.56436831e-02 -8.94564390e-03 -6.25836700e-02\n",
      "  -3.96516584e-02 -4.90080938e-02  2.61774510e-02 -3.96582410e-02\n",
      "   7.01883435e-03 -4.87104878e-02 -1.75115541e-02 -1.28306411e-02\n",
      "  -1.20209157e-03 -4.16612886e-02  2.30947956e-02  4.25514802e-02\n",
      "  -3.56979817e-02  7.17055649e-02  5.11901826e-02 -2.00062580e-02\n",
      "  -1.73144676e-02 -1.49792805e-02 -5.79045862e-02  6.86167628e-02\n",
      "  -6.73685968e-02 -4.47043255e-02 -1.93743668e-02 -1.49750784e-02\n",
      "  -5.68422303e-02  1.06336325e-02  3.58110070e-02 -1.86568163e-02\n",
      "  -3.73571254e-02  7.10780919e-03  3.97928357e-02 -5.35589680e-02\n",
      "  -4.13796827e-02  2.08420455e-02  4.23053503e-02 -7.32355565e-02\n",
      "   4.51217145e-02  6.09436333e-02 -3.56806703e-02  1.00112259e-02\n",
      "   6.83064908e-02 -2.81754471e-02  4.22730148e-02  5.75130731e-02\n",
      "   3.60734761e-02 -3.74845378e-02 -1.62647963e-02 -2.82274708e-02\n",
      "   4.67897654e-02  4.10788506e-02 -1.04682446e-02  5.99119216e-02\n",
      "  -6.11964315e-02  6.94121569e-02 -2.56051756e-02  4.32815701e-02\n",
      "   2.12568119e-02  7.40543455e-02 -5.99206686e-02  4.25526872e-02\n",
      "  -6.89782053e-02  3.87855396e-02  5.70977330e-02 -5.53210676e-02\n",
      "  -4.77354378e-02 -4.49476317e-02 -7.29061291e-02 -1.56714283e-02\n",
      "  -4.06450778e-03  6.71358556e-02  2.42796838e-02  6.97380155e-02\n",
      "   1.55684054e-02 -7.79608637e-03  6.82070851e-04  2.99954042e-02\n",
      "  -6.24274909e-02 -3.19386572e-02 -2.63873637e-02 -3.84887122e-02\n",
      "  -5.64924553e-02  8.04220140e-03 -5.39609268e-02 -1.01519451e-02\n",
      "  -4.45789695e-02 -5.82934693e-02 -5.14898524e-02  4.27891836e-02\n",
      "   1.34005770e-02 -4.54228669e-02 -2.06534974e-02 -5.13165519e-02\n",
      "   3.02706212e-02 -6.48859218e-02 -1.38204321e-02 -6.70654401e-02\n",
      "   2.90702507e-02  2.59997919e-02  2.64400467e-02 -6.07226491e-02\n",
      "  -9.50977951e-03  7.24629164e-02  3.24769318e-03 -2.93342955e-02\n",
      "  -5.93055189e-02  1.37497485e-02  6.69962317e-02 -6.87888861e-02\n",
      "  -6.34497404e-02 -6.39112592e-02 -6.36300072e-02 -6.34708479e-02\n",
      "   1.93245783e-02  3.08609530e-02  6.78998977e-02 -3.48826088e-02\n",
      "  -6.21188879e-02 -2.47767307e-02  3.10889557e-02 -3.44211198e-02\n",
      "   6.82477802e-02 -5.42116165e-02  7.18215257e-02 -5.87408356e-02\n",
      "   7.12219328e-02  3.49837467e-02 -6.02152236e-02  6.86895102e-03\n",
      "  -3.00208218e-02 -1.24111585e-02  2.57520974e-02  3.48334536e-02\n",
      "  -5.65594174e-02 -4.93168831e-04 -5.35506010e-03 -1.63110755e-02\n",
      "  -2.08004192e-02 -2.95323208e-02 -6.44068420e-03 -6.24009520e-02\n",
      "   4.41487357e-02 -4.73816209e-02 -7.15119690e-02  4.52366024e-02\n",
      "  -3.48411724e-02  1.96255669e-02  7.88344443e-03 -4.14441936e-02\n",
      "  -3.74860466e-02  7.20864832e-02  7.19099939e-02  3.39477658e-02\n",
      "  -7.18628764e-02  3.00401747e-02  1.04299486e-02 -2.61727720e-03\n",
      "   1.01521909e-02 -3.55356969e-02  7.05821961e-02  6.58772886e-02\n",
      "   5.75365722e-02 -4.87957709e-02  5.93557954e-03 -6.79718629e-02\n",
      "   2.85694599e-02 -1.20123401e-02 -5.43801971e-02 -7.21956342e-02\n",
      "  -5.84900752e-02 -6.87210411e-02 -6.62889183e-02  4.97860610e-02\n",
      "  -4.38587442e-02 -9.02861357e-05 -7.17638060e-02  3.02383229e-02\n",
      "  -5.79336956e-02  2.24998668e-02  7.22599179e-02  5.24823070e-02\n",
      "  -1.22441575e-02  1.64289623e-02 -1.33396834e-02 -2.50036679e-02\n",
      "   1.92700997e-02 -5.59589937e-02 -2.30294801e-02 -1.10389441e-02\n",
      "   1.60668045e-03  5.08079678e-03  7.13163763e-02 -5.11327684e-02\n",
      "   4.91575897e-02 -6.88501000e-02  5.02212420e-02  2.03500688e-02\n",
      "   3.99753228e-02 -4.89881746e-02  4.84547764e-02 -4.62613329e-02\n",
      "   5.83990067e-02  6.74270242e-02  4.29378450e-02  1.36173293e-02\n",
      "   2.82716900e-02 -3.83672267e-02 -6.27673492e-02 -5.80657497e-02\n",
      "   6.21017814e-02 -3.30381170e-02  2.09596306e-02 -1.18345171e-02\n",
      "  -7.25018457e-02  1.82636008e-02  8.95300508e-03 -6.78568706e-02\n",
      "  -6.41779006e-02  6.88557774e-02 -6.58615679e-03 -6.46490827e-02\n",
      "   4.93589863e-02 -4.69908118e-04  7.30627477e-02  7.13387877e-02\n",
      "   7.36981779e-02 -6.54603094e-02 -5.50868586e-02 -7.13490099e-02\n",
      "   5.62356114e-02 -6.08302839e-02  6.07081503e-03  3.63159478e-02\n",
      "   2.08027214e-02 -7.14189485e-02  9.03238356e-03 -3.83735746e-02\n",
      "  -4.95712012e-02 -6.62813559e-02 -2.82228775e-02  1.04029179e-02\n",
      "  -1.11451894e-02 -5.21235876e-02  5.26648760e-02  2.98731327e-02\n",
      "  -7.16623813e-02 -1.47228613e-02 -1.27311125e-02  7.23051578e-02\n",
      "   1.04457363e-02  7.26465285e-02 -4.47948724e-02  3.75061259e-02\n",
      "   5.65423369e-02 -2.61725932e-02 -3.30267139e-02  3.50399092e-02\n",
      "   1.57634914e-02  5.74912280e-02  4.08084691e-02  5.53145409e-02]\n",
      " [ 5.30481040e-02  5.28303534e-02 -6.16736300e-02 -8.85345787e-03\n",
      "  -4.22072932e-02 -7.06609190e-02 -6.74694404e-02 -7.31250271e-02\n",
      "   6.14726245e-02 -3.81850041e-02 -3.97681445e-02  6.59154803e-02\n",
      "   4.86711487e-02  4.70586121e-02  6.01878762e-02  5.82825243e-02\n",
      "   7.53312558e-03  2.65166163e-05  7.26055950e-02  4.92518619e-02\n",
      "  -7.29062334e-02 -6.97345287e-02  3.13564390e-03 -2.00015604e-02\n",
      "   3.77757847e-03  3.58493552e-02  5.78202456e-02  1.90275013e-02\n",
      "  -6.00388385e-02  1.92915648e-02  4.88679260e-02 -5.16822189e-02\n",
      "  -3.68538871e-02  7.42109418e-02  4.85832915e-02  5.76664060e-02\n",
      "  -5.94785362e-02  1.37708858e-02  5.61808050e-02  1.86288059e-02\n",
      "  -7.28233457e-02  3.46629322e-03 -2.52468921e-02  3.69300172e-02\n",
      "  -2.51709707e-02  6.99385107e-02 -7.39617795e-02  4.23565581e-02\n",
      "  -5.82908466e-02 -1.32095814e-03 -6.35967851e-02  2.99732313e-02\n",
      "   3.26746181e-02  6.52668476e-02 -6.70455247e-02 -6.39018416e-02\n",
      "   5.14427572e-02  4.69673350e-02 -3.79898548e-02 -4.82659936e-02\n",
      "   4.21277210e-02  3.64790335e-02 -5.02538756e-02  4.81847897e-02\n",
      "   4.71357778e-02  8.96976888e-03  4.00903523e-02 -6.46199435e-02\n",
      "   3.26557979e-02 -1.20918080e-02  5.95230609e-03 -4.46641110e-02\n",
      "   7.61629641e-03 -1.59788430e-02  6.16160035e-03  6.00428879e-02\n",
      "  -4.59411480e-02  1.67767778e-02  1.15711093e-02 -2.07349472e-02\n",
      "   1.97159946e-02  6.71159029e-02  5.86533546e-02 -7.99877942e-03\n",
      "   4.61136997e-02  3.53324711e-02  6.68137223e-02 -2.87791006e-02\n",
      "  -2.43670233e-02 -2.04693787e-02  8.83228332e-03  3.19730490e-02\n",
      "  -2.75365114e-02  4.53695953e-02 -5.85273057e-02 -6.54485151e-02\n",
      "   4.29062545e-02  6.86760396e-02 -3.91855277e-02 -5.96861243e-02\n",
      "  -4.18581069e-02  3.82562056e-02 -5.64420447e-02 -3.60535905e-02\n",
      "  -1.49028003e-03 -5.13515845e-02  5.76945543e-02 -1.91469826e-02\n",
      "   4.98267859e-02  6.39003366e-02 -5.57944365e-02  9.67275351e-03\n",
      "  -7.02600181e-03  6.64492697e-02 -4.85844426e-02 -6.39053583e-02\n",
      "  -4.57451269e-02 -6.33860230e-02 -1.77448057e-02 -4.25225683e-02\n",
      "   7.32385367e-03  6.15509748e-02  6.15780801e-02  1.01415664e-02\n",
      "   1.08687654e-02  3.47339436e-02 -5.80878891e-02  1.27100796e-02\n",
      "  -9.48515534e-03 -2.05918215e-02 -5.51762208e-02 -6.79613426e-02\n",
      "  -4.32081893e-02  4.88460958e-02 -6.91965222e-02  4.76892516e-02\n",
      "  -2.38343365e-02  4.23198566e-02 -1.64717808e-02  3.99078131e-02\n",
      "   3.13481241e-02 -4.31812443e-02 -6.23728223e-02  1.80877298e-02\n",
      "   4.18664292e-02  6.42401874e-02  3.56477648e-02 -3.97654288e-02\n",
      "   6.18028045e-02 -2.07106657e-02  3.01798582e-02 -1.86311305e-02\n",
      "  -4.34448123e-02 -2.96975300e-02  2.45074853e-02 -5.57152033e-02\n",
      "  -4.14237417e-02 -2.43871547e-02  4.82884496e-02  3.61980274e-02\n",
      "   4.34840620e-02  5.68537712e-02  2.68182158e-03 -6.79161698e-02\n",
      "   1.88801438e-03  2.56691724e-02 -6.63032979e-02  4.10018116e-02\n",
      "  -2.79285349e-02 -3.64686213e-02 -3.10458913e-02 -5.29147685e-02\n",
      "  -6.83552697e-02  3.47087532e-03 -2.07754597e-02 -2.49461271e-02\n",
      "   3.81670892e-03 -5.00347987e-02 -3.32293324e-02  5.72308898e-04\n",
      "  -3.24314833e-02 -3.85092013e-02  4.52925637e-02  4.41549793e-02\n",
      "  -7.15851858e-02 -2.39698701e-02  6.37694150e-02  6.62750602e-02\n",
      "   3.93231958e-03 -6.49284050e-02  1.88309327e-02  6.73363656e-02\n",
      "   5.08783609e-02 -2.43993215e-02 -3.97636406e-02  5.56981713e-02\n",
      "   2.29595751e-02 -2.17856839e-02  6.57332689e-02 -7.17664883e-02\n",
      "   1.27726719e-02  2.65292302e-02 -2.24835277e-02 -5.39832264e-02\n",
      "  -7.39053339e-02  2.18081251e-02  1.52443722e-02 -6.29544631e-02\n",
      "   3.76013964e-02 -5.34980409e-02  7.42286146e-02  4.24114764e-02\n",
      "   5.59559017e-02 -4.14992347e-02  7.15392977e-02  2.25687027e-02\n",
      "  -2.92961411e-02  3.50311100e-02  5.52831143e-02 -7.37013519e-02\n",
      "  -5.30025885e-02  5.60467690e-02 -6.31086528e-03 -1.06599182e-02\n",
      "  -4.63315770e-02  6.17924184e-02  7.29685426e-02  4.33203653e-02\n",
      "  -5.59406877e-02  4.21317145e-02  5.65007329e-03 -3.88264954e-02\n",
      "  -3.13205980e-02  3.59306112e-02 -7.39196464e-02  2.17290521e-02\n",
      "   1.88879594e-02  7.27075040e-02  2.74385065e-02 -6.64631873e-02\n",
      "   1.40508264e-02  2.27983221e-02  5.59980124e-02  3.98691595e-02\n",
      "  -3.84940505e-02  4.43841517e-02  6.70990497e-02  2.41787508e-02\n",
      "  -3.60138193e-02  4.42001447e-02 -1.63836218e-02  7.22813755e-02\n",
      "   4.14982960e-02  3.76044810e-02  2.52680182e-02 -5.34116216e-02\n",
      "  -4.79069650e-02  4.02028114e-03  8.93622637e-05  4.47479561e-02\n",
      "   2.53938809e-02 -2.78890133e-04 -1.39749274e-02  5.20814955e-03\n",
      "  -2.50590295e-02 -5.05154915e-02  3.55896056e-02 -2.35082954e-03\n",
      "   5.41815907e-02 -4.20690104e-02 -3.16351615e-02 -4.58868369e-02\n",
      "  -7.32619837e-02  5.17629087e-02  4.70016077e-02  1.14843547e-02\n",
      "  -4.17619944e-04  3.75113711e-02  2.32279301e-02 -2.71064192e-02\n",
      "   2.46855617e-03  4.81148660e-02  6.03801757e-02 -3.40966061e-02\n",
      "  -6.32800609e-02 -2.74583213e-02  7.02363700e-02  4.60740253e-02\n",
      "   2.45101154e-02 -7.12872967e-02  2.66902894e-03 -3.63956466e-02\n",
      "  -4.23849933e-02 -7.24420324e-02 -3.24089751e-02 -3.91342826e-02\n",
      "   2.35117227e-03 -1.20370127e-02 -1.75318457e-02 -5.32514155e-02]]\n",
      "편향 \n",
      " [0. 0.]\n",
      "가중치 shape :  (784, 300)\n",
      "편향 shape :  (300,)\n"
     ]
    }
   ],
   "source": [
    "weights, biases = hidden1.get_weights()\n",
    "print(\"가중치 \\n\", weights[:2])\n",
    "print(\"편향 \\n\", biases[:2])\n",
    "print(\"가중치 shape : \", weights.shape)\n",
    "print(\"편향 shape : \", biases.shape)"
   ]
  },
  {
   "cell_type": "markdown",
   "id": "4a5d7550",
   "metadata": {},
   "source": [
    "#### 가중치/편향 초기화\n",
    "- 가중치 초기화 : 대칭성을 깨트리기 위해 Dense 층의 가중치 초기화\n",
    "- 편향 : 0 으로 초기화\n",
    "- 초기화 방법 \n",
    "  - `kernel_initializer` : 가중치 초기화 방법 선택  가능 "
   ]
  },
  {
   "cell_type": "markdown",
   "id": "fa47dd49",
   "metadata": {},
   "source": [
    "### 모델 컴파일 \n",
    "- compile() 메서드를 이용\n",
    "  - 손실 함수 지정\n",
    "  - 옵티마이저 지정\n",
    "  - 계산 할 지표 지정 가능 \n",
    "\n",
    "#### 손실 함수 \n",
    "- `sparse_categorical_crossentropy` : 클래스가 배타적인 경우 싸용 \n",
    "- `categorical_crossentropy` : 샘플마다 클래스 별 타깃 확률을 가지고 있는 경우 \n",
    "- `binary_crossentropy` : 이진 분류 및 다중 레이블 이진 분류 시 (출력층을 `sigmoid`로 변경)\n",
    "\n",
    "#### 옵티마이저 \n",
    "- sgd : 확률적 경사 하강법 사용 \n",
    "    - 역전파 알고리즘 수행 \n",
    "\n",
    "#### 평가 지표 \n",
    "- accuracy : 정확도  "
   ]
  },
  {
   "cell_type": "code",
   "execution_count": 62,
   "id": "5c2b7457",
   "metadata": {},
   "outputs": [],
   "source": [
    "model.compile(\n",
    "    loss=\"sparse_categorical_crossentropy\",\n",
    "    optimizer=\"sgd\",\n",
    "    metrics=[\"accuracy\"]\n",
    ")"
   ]
  },
  {
   "cell_type": "markdown",
   "id": "f0d06085",
   "metadata": {},
   "source": [
    "### 모델 훈련과 평가 \n",
    "- fit() 메서드를 이용하여 모델 훈련\n",
    "- 입력 특성과 타깃 클래스, 에포크 횟수와 검증 세트 전달 \n",
    "  - 검증 세트를 사용해 손실과 추가적인 측정 지표 계산 \n",
    "\n",
    "\n",
    "#### class_weight\n",
    "- 훈련세트가 편중되어 있는 경우 fit 에서 매개 변수로 지정이 필요 \n",
    "\n",
    "#### sample_weight\n",
    "- 샘플 별로 가중치 부여 \n",
    "- `class_weight`를 모두 지정되는 경우 도 값을 곱하여 사용 \n",
    "- `vaildation_data` 튜플의 세번째 원소로 검증 세트에 대한 샘플 별 가중치 지정 가능 \n",
    "\n",
    "#### history 객체 \n",
    "- `history.params` :  훈련 파라미터 \n",
    "- `history.epoch` : 수행된 에포크\n",
    "- `history.history` : 검증세트에 대한 손실과 측정 지표 "
   ]
  },
  {
   "cell_type": "code",
   "execution_count": 63,
   "id": "c714e666",
   "metadata": {},
   "outputs": [
    {
     "name": "stdout",
     "output_type": "stream",
     "text": [
      "Epoch 1/30\n",
      "\u001b[1m1719/1719\u001b[0m \u001b[32m━━━━━━━━━━━━━━━━━━━━\u001b[0m\u001b[37m\u001b[0m \u001b[1m5s\u001b[0m 3ms/step - accuracy: 0.6794 - loss: 1.0249 - val_accuracy: 0.8344 - val_loss: 0.4996\n",
      "Epoch 2/30\n",
      "\u001b[1m1719/1719\u001b[0m \u001b[32m━━━━━━━━━━━━━━━━━━━━\u001b[0m\u001b[37m\u001b[0m \u001b[1m5s\u001b[0m 3ms/step - accuracy: 0.8275 - loss: 0.5047 - val_accuracy: 0.8462 - val_loss: 0.4468\n",
      "Epoch 3/30\n",
      "\u001b[1m1719/1719\u001b[0m \u001b[32m━━━━━━━━━━━━━━━━━━━━\u001b[0m\u001b[37m\u001b[0m \u001b[1m4s\u001b[0m 2ms/step - accuracy: 0.8443 - loss: 0.4523 - val_accuracy: 0.8506 - val_loss: 0.4222\n",
      "Epoch 4/30\n",
      "\u001b[1m1719/1719\u001b[0m \u001b[32m━━━━━━━━━━━━━━━━━━━━\u001b[0m\u001b[37m\u001b[0m \u001b[1m4s\u001b[0m 2ms/step - accuracy: 0.8546 - loss: 0.4224 - val_accuracy: 0.8556 - val_loss: 0.4067\n",
      "Epoch 5/30\n",
      "\u001b[1m1719/1719\u001b[0m \u001b[32m━━━━━━━━━━━━━━━━━━━━\u001b[0m\u001b[37m\u001b[0m \u001b[1m5s\u001b[0m 3ms/step - accuracy: 0.8623 - loss: 0.4010 - val_accuracy: 0.8586 - val_loss: 0.3953\n",
      "Epoch 6/30\n",
      "\u001b[1m1719/1719\u001b[0m \u001b[32m━━━━━━━━━━━━━━━━━━━━\u001b[0m\u001b[37m\u001b[0m \u001b[1m5s\u001b[0m 3ms/step - accuracy: 0.8667 - loss: 0.3841 - val_accuracy: 0.8588 - val_loss: 0.3858\n",
      "Epoch 7/30\n",
      "\u001b[1m1719/1719\u001b[0m \u001b[32m━━━━━━━━━━━━━━━━━━━━\u001b[0m\u001b[37m\u001b[0m \u001b[1m4s\u001b[0m 2ms/step - accuracy: 0.8713 - loss: 0.3693 - val_accuracy: 0.8612 - val_loss: 0.3782\n",
      "Epoch 8/30\n",
      "\u001b[1m1719/1719\u001b[0m \u001b[32m━━━━━━━━━━━━━━━━━━━━\u001b[0m\u001b[37m\u001b[0m \u001b[1m4s\u001b[0m 3ms/step - accuracy: 0.8754 - loss: 0.3563 - val_accuracy: 0.8636 - val_loss: 0.3707\n",
      "Epoch 9/30\n",
      "\u001b[1m1719/1719\u001b[0m \u001b[32m━━━━━━━━━━━━━━━━━━━━\u001b[0m\u001b[37m\u001b[0m \u001b[1m4s\u001b[0m 3ms/step - accuracy: 0.8780 - loss: 0.3449 - val_accuracy: 0.8644 - val_loss: 0.3665\n",
      "Epoch 10/30\n",
      "\u001b[1m1719/1719\u001b[0m \u001b[32m━━━━━━━━━━━━━━━━━━━━\u001b[0m\u001b[37m\u001b[0m \u001b[1m5s\u001b[0m 3ms/step - accuracy: 0.8816 - loss: 0.3348 - val_accuracy: 0.8678 - val_loss: 0.3609\n",
      "Epoch 11/30\n",
      "\u001b[1m1719/1719\u001b[0m \u001b[32m━━━━━━━━━━━━━━━━━━━━\u001b[0m\u001b[37m\u001b[0m \u001b[1m5s\u001b[0m 3ms/step - accuracy: 0.8848 - loss: 0.3253 - val_accuracy: 0.8712 - val_loss: 0.3563\n",
      "Epoch 12/30\n",
      "\u001b[1m1719/1719\u001b[0m \u001b[32m━━━━━━━━━━━━━━━━━━━━\u001b[0m\u001b[37m\u001b[0m \u001b[1m5s\u001b[0m 3ms/step - accuracy: 0.8870 - loss: 0.3167 - val_accuracy: 0.8708 - val_loss: 0.3544\n",
      "Epoch 13/30\n",
      "\u001b[1m1719/1719\u001b[0m \u001b[32m━━━━━━━━━━━━━━━━━━━━\u001b[0m\u001b[37m\u001b[0m \u001b[1m4s\u001b[0m 3ms/step - accuracy: 0.8899 - loss: 0.3088 - val_accuracy: 0.8708 - val_loss: 0.3514\n",
      "Epoch 14/30\n",
      "\u001b[1m1719/1719\u001b[0m \u001b[32m━━━━━━━━━━━━━━━━━━━━\u001b[0m\u001b[37m\u001b[0m \u001b[1m4s\u001b[0m 3ms/step - accuracy: 0.8926 - loss: 0.3015 - val_accuracy: 0.8720 - val_loss: 0.3493\n",
      "Epoch 15/30\n",
      "\u001b[1m1719/1719\u001b[0m \u001b[32m━━━━━━━━━━━━━━━━━━━━\u001b[0m\u001b[37m\u001b[0m \u001b[1m4s\u001b[0m 3ms/step - accuracy: 0.8951 - loss: 0.2948 - val_accuracy: 0.8736 - val_loss: 0.3471\n",
      "Epoch 16/30\n",
      "\u001b[1m1719/1719\u001b[0m \u001b[32m━━━━━━━━━━━━━━━━━━━━\u001b[0m\u001b[37m\u001b[0m \u001b[1m5s\u001b[0m 3ms/step - accuracy: 0.8967 - loss: 0.2882 - val_accuracy: 0.8746 - val_loss: 0.3464\n",
      "Epoch 17/30\n",
      "\u001b[1m1719/1719\u001b[0m \u001b[32m━━━━━━━━━━━━━━━━━━━━\u001b[0m\u001b[37m\u001b[0m \u001b[1m6s\u001b[0m 3ms/step - accuracy: 0.8988 - loss: 0.2820 - val_accuracy: 0.8764 - val_loss: 0.3449\n",
      "Epoch 18/30\n",
      "\u001b[1m1719/1719\u001b[0m \u001b[32m━━━━━━━━━━━━━━━━━━━━\u001b[0m\u001b[37m\u001b[0m \u001b[1m5s\u001b[0m 3ms/step - accuracy: 0.9011 - loss: 0.2763 - val_accuracy: 0.8766 - val_loss: 0.3440\n",
      "Epoch 19/30\n",
      "\u001b[1m1719/1719\u001b[0m \u001b[32m━━━━━━━━━━━━━━━━━━━━\u001b[0m\u001b[37m\u001b[0m \u001b[1m5s\u001b[0m 3ms/step - accuracy: 0.9036 - loss: 0.2708 - val_accuracy: 0.8772 - val_loss: 0.3435\n",
      "Epoch 20/30\n",
      "\u001b[1m1719/1719\u001b[0m \u001b[32m━━━━━━━━━━━━━━━━━━━━\u001b[0m\u001b[37m\u001b[0m \u001b[1m5s\u001b[0m 3ms/step - accuracy: 0.9057 - loss: 0.2655 - val_accuracy: 0.8770 - val_loss: 0.3424\n",
      "Epoch 21/30\n",
      "\u001b[1m1719/1719\u001b[0m \u001b[32m━━━━━━━━━━━━━━━━━━━━\u001b[0m\u001b[37m\u001b[0m \u001b[1m6s\u001b[0m 3ms/step - accuracy: 0.9072 - loss: 0.2605 - val_accuracy: 0.8772 - val_loss: 0.3424\n",
      "Epoch 22/30\n",
      "\u001b[1m1719/1719\u001b[0m \u001b[32m━━━━━━━━━━━━━━━━━━━━\u001b[0m\u001b[37m\u001b[0m \u001b[1m6s\u001b[0m 3ms/step - accuracy: 0.9089 - loss: 0.2557 - val_accuracy: 0.8766 - val_loss: 0.3428\n",
      "Epoch 23/30\n",
      "\u001b[1m1719/1719\u001b[0m \u001b[32m━━━━━━━━━━━━━━━━━━━━\u001b[0m\u001b[37m\u001b[0m \u001b[1m5s\u001b[0m 3ms/step - accuracy: 0.9111 - loss: 0.2512 - val_accuracy: 0.8768 - val_loss: 0.3430\n",
      "Epoch 24/30\n",
      "\u001b[1m1719/1719\u001b[0m \u001b[32m━━━━━━━━━━━━━━━━━━━━\u001b[0m\u001b[37m\u001b[0m \u001b[1m5s\u001b[0m 3ms/step - accuracy: 0.9131 - loss: 0.2465 - val_accuracy: 0.8780 - val_loss: 0.3417\n",
      "Epoch 25/30\n",
      "\u001b[1m1719/1719\u001b[0m \u001b[32m━━━━━━━━━━━━━━━━━━━━\u001b[0m\u001b[37m\u001b[0m \u001b[1m5s\u001b[0m 3ms/step - accuracy: 0.9144 - loss: 0.2422 - val_accuracy: 0.8776 - val_loss: 0.3419\n",
      "Epoch 26/30\n",
      "\u001b[1m1719/1719\u001b[0m \u001b[32m━━━━━━━━━━━━━━━━━━━━\u001b[0m\u001b[37m\u001b[0m \u001b[1m6s\u001b[0m 3ms/step - accuracy: 0.9167 - loss: 0.2381 - val_accuracy: 0.8782 - val_loss: 0.3421\n",
      "Epoch 27/30\n",
      "\u001b[1m1719/1719\u001b[0m \u001b[32m━━━━━━━━━━━━━━━━━━━━\u001b[0m\u001b[37m\u001b[0m \u001b[1m6s\u001b[0m 3ms/step - accuracy: 0.9182 - loss: 0.2339 - val_accuracy: 0.8780 - val_loss: 0.3412\n",
      "Epoch 28/30\n",
      "\u001b[1m1719/1719\u001b[0m \u001b[32m━━━━━━━━━━━━━━━━━━━━\u001b[0m\u001b[37m\u001b[0m \u001b[1m5s\u001b[0m 3ms/step - accuracy: 0.9196 - loss: 0.2299 - val_accuracy: 0.8782 - val_loss: 0.3429\n",
      "Epoch 29/30\n",
      "\u001b[1m1719/1719\u001b[0m \u001b[32m━━━━━━━━━━━━━━━━━━━━\u001b[0m\u001b[37m\u001b[0m \u001b[1m5s\u001b[0m 3ms/step - accuracy: 0.9213 - loss: 0.2257 - val_accuracy: 0.8766 - val_loss: 0.3440\n",
      "Epoch 30/30\n",
      "\u001b[1m1719/1719\u001b[0m \u001b[32m━━━━━━━━━━━━━━━━━━━━\u001b[0m\u001b[37m\u001b[0m \u001b[1m6s\u001b[0m 3ms/step - accuracy: 0.9226 - loss: 0.2221 - val_accuracy: 0.8768 - val_loss: 0.3438\n"
     ]
    }
   ],
   "source": [
    "history = model.fit(\n",
    "    X_train, \n",
    "    y_train,\n",
    "    epochs=30,\n",
    "    validation_data=(X_valid, y_valid)\n",
    ")"
   ]
  },
  {
   "cell_type": "markdown",
   "id": "c738ea18",
   "metadata": {},
   "source": [
    "- 학습 곡선 그리기 \n",
    "  - 정확도와 검증 정확도가 꾸준 히 상승 \n",
    "  - 훈련 손실 및 검증 손실은 감소 \n",
    "- 시간이 지남에 따라 `과대적합`이 발생하고 있음  "
   ]
  },
  {
   "cell_type": "code",
   "execution_count": 64,
   "id": "6045ba8c",
   "metadata": {},
   "outputs": [
    {
     "data": {
      "image/png": "[encoded data removed]",
      "text/plain": [
       "<Figure size 800x500 with 1 Axes>"
      ]
     },
     "metadata": {},
     "output_type": "display_data"
    }
   ],
   "source": [
    "import matplotlib.pyplot as plt\n",
    "import pandas as pd\n",
    "\n",
    "pd.DataFrame(history.history).plot(\n",
    "    figsize=(8, 5),\n",
    "    xlim=[0,29],\n",
    "    ylim=[0,1],\n",
    "    grid=True,\n",
    "    xlabel=\"에포크\",\n",
    "    style=[\"r--\",\"r--\",\"b-\",\"b-*\"]\n",
    "    )\n",
    "\n",
    "plt.show()"
   ]
  },
  {
   "cell_type": "markdown",
   "id": "72c98811",
   "metadata": {},
   "source": [
    "#### 하이퍼파라미터 튜닝 \n",
    "- 모델 성능이 만족스럽지 않으면 하이퍼파라미터 튜닝 고려 \n",
    "\n",
    "  - 학습률 \n",
    "  - 옵티마이저\n",
    "  - 층의 개수 \n",
    "  - 층의 뉴런 개수 \n",
    "  - 은닉층의 활성화 함수 \n",
    "  - 배치 크기 "
   ]
  },
  {
   "cell_type": "markdown",
   "id": "cee46e7c",
   "metadata": {},
   "source": [
    "#### 모델 평가 \n",
    "- evaluate() 메서드를 이용하여 모델 평가"
   ]
  },
  {
   "cell_type": "code",
   "execution_count": 65,
   "id": "f7e04a62",
   "metadata": {},
   "outputs": [
    {
     "name": "stdout",
     "output_type": "stream",
     "text": [
      "\u001b[1m313/313\u001b[0m \u001b[32m━━━━━━━━━━━━━━━━━━━━\u001b[0m\u001b[37m\u001b[0m \u001b[1m1s\u001b[0m 2ms/step - accuracy: 0.8728 - loss: 0.3714\n"
     ]
    },
    {
     "data": {
      "text/plain": [
       "[0.3701416850090027, 0.871999979019165]"
      ]
     },
     "execution_count": 65,
     "metadata": {},
     "output_type": "execute_result"
    }
   ],
   "source": [
    "model.evaluate(X_test, y_test)"
   ]
  },
  {
   "cell_type": "markdown",
   "id": "54b5f4e6",
   "metadata": {},
   "source": [
    "### 모델 예측 \n",
    "- `predict()` 함수를 이용하여 샘플 예측 \n",
    "\n",
    "#### 확률 추정 \n",
    "- 각 클래스 별로 각각 확률 추정 \n",
    "- 사이킷런의 `predict_proba()`와 유사 "
   ]
  },
  {
   "cell_type": "code",
   "execution_count": 66,
   "id": "c7fa0ae1",
   "metadata": {},
   "outputs": [
    {
     "name": "stdout",
     "output_type": "stream",
     "text": [
      "\u001b[1m1/1\u001b[0m \u001b[32m━━━━━━━━━━━━━━━━━━━━\u001b[0m\u001b[37m\u001b[0m \u001b[1m0s\u001b[0m 79ms/step\n"
     ]
    },
    {
     "data": {
      "text/plain": [
       "array([[0.  , 0.  , 0.  , 0.  , 0.  , 0.15, 0.  , 0.01, 0.  , 0.84],\n",
       "       [0.  , 0.  , 1.  , 0.  , 0.  , 0.  , 0.  , 0.  , 0.  , 0.  ],\n",
       "       [0.  , 1.  , 0.  , 0.  , 0.  , 0.  , 0.  , 0.  , 0.  , 0.  ]],\n",
       "      dtype=float32)"
      ]
     },
     "execution_count": 66,
     "metadata": {},
     "output_type": "execute_result"
    }
   ],
   "source": [
    "X_new = X_test[:3]\n",
    "y_proba = model.predict(X_new)\n",
    "y_proba.round(2)"
   ]
  },
  {
   "cell_type": "markdown",
   "id": "d3ba59cc",
   "metadata": {},
   "source": [
    "- 분류 확인 "
   ]
  },
  {
   "cell_type": "code",
   "execution_count": 67,
   "id": "3e6e3f65",
   "metadata": {},
   "outputs": [
    {
     "name": "stdout",
     "output_type": "stream",
     "text": [
      "예측 클래스 인덱스  :  [9 2 1]\n",
      "예측 클래스 ['Ankle boot' 'Pullover' 'Trouser']\n"
     ]
    },
    {
     "data": {
      "image/png": "[encoded data removed]",
      "text/plain": [
       "<Figure size 800x400 with 3 Axes>"
      ]
     },
     "metadata": {},
     "output_type": "display_data"
    }
   ],
   "source": [
    "import numpy as np\n",
    "y_pred = y_proba.argmax(axis=-1)\n",
    "print(\"예측 클래스 인덱스  : \", y_pred)\n",
    "\n",
    "print(\"예측 클래스\",np.array(class_names)[y_pred])\n",
    "\n",
    "### 분류 이미지 확인\n",
    "y_new = y_test[:3]\n",
    "plt.figure(figsize=(8, 4))\n",
    "for index, (image, label) in enumerate(zip(X_new, y_new)):\n",
    "    plt.subplot(1, 3, index + 1)\n",
    "    plt.imshow(image, cmap=\"binary\")\n",
    "    plt.axis(\"off\")\n",
    "    plt.title(f\"예측: {class_names[y_pred[index]]}\\n실제: {class_names[label]}\")    "
   ]
  },
  {
   "cell_type": "markdown",
   "id": "3bcf7a75",
   "metadata": {},
   "source": [
    "## 시퀀셜 API - 회귀용 다층 퍼셉트론 \n",
    "- 분류와의 차이점 : \n",
    "  - 출력층에 뉴런 1개\n",
    "  - 활성화 함수 사용 X \n",
    "  - 손실 함수 : MSE\n",
    "  - 측정 지표 : RMSE\n",
    "  - 옵티마이저 : Adam"
   ]
  },
  {
   "cell_type": "code",
   "execution_count": 69,
   "id": "413a25b7",
   "metadata": {},
   "outputs": [],
   "source": [
    "housing = fetch_california_housing()\n",
    "X_train_full, X_test, y_train_full, y_test = train_test_split(\n",
    "    housing.data, housing.target, random_state=42)\n",
    "X_train, X_valid, y_train, y_valid = train_test_split(\n",
    "    X_train_full, y_train_full, random_state=42)"
   ]
  },
  {
   "cell_type": "code",
   "execution_count": 70,
   "id": "34ed9140",
   "metadata": {},
   "outputs": [
    {
     "name": "stdout",
     "output_type": "stream",
     "text": [
      "Epoch 1/20\n",
      "\u001b[1m363/363\u001b[0m \u001b[32m━━━━━━━━━━━━━━━━━━━━\u001b[0m\u001b[37m\u001b[0m \u001b[1m2s\u001b[0m 3ms/step - RootMeanSquaredError: 1.2631 - loss: 1.6994 - val_RootMeanSquaredError: 0.6955 - val_loss: 0.4837\n",
      "Epoch 2/20\n",
      "\u001b[1m363/363\u001b[0m \u001b[32m━━━━━━━━━━━━━━━━━━━━\u001b[0m\u001b[37m\u001b[0m \u001b[1m1s\u001b[0m 2ms/step - RootMeanSquaredError: 0.6530 - loss: 0.4271 - val_RootMeanSquaredError: 0.7790 - val_loss: 0.6068\n",
      "Epoch 3/20\n",
      "\u001b[1m363/363\u001b[0m \u001b[32m━━━━━━━━━━━━━━━━━━━━\u001b[0m\u001b[37m\u001b[0m \u001b[1m1s\u001b[0m 2ms/step - RootMeanSquaredError: 0.6101 - loss: 0.3723 - val_RootMeanSquaredError: 0.5813 - val_loss: 0.3379\n",
      "Epoch 4/20\n",
      "\u001b[1m363/363\u001b[0m \u001b[32m━━━━━━━━━━━━━━━━━━━━\u001b[0m\u001b[37m\u001b[0m \u001b[1m1s\u001b[0m 2ms/step - RootMeanSquaredError: 0.5964 - loss: 0.3558 - val_RootMeanSquaredError: 0.9192 - val_loss: 0.8450\n",
      "Epoch 5/20\n",
      "\u001b[1m363/363\u001b[0m \u001b[32m━━━━━━━━━━━━━━━━━━━━\u001b[0m\u001b[37m\u001b[0m \u001b[1m1s\u001b[0m 2ms/step - RootMeanSquaredError: 0.5840 - loss: 0.3412 - val_RootMeanSquaredError: 1.1790 - val_loss: 1.3899\n",
      "Epoch 6/20\n",
      "\u001b[1m363/363\u001b[0m \u001b[32m━━━━━━━━━━━━━━━━━━━━\u001b[0m\u001b[37m\u001b[0m \u001b[1m1s\u001b[0m 2ms/step - RootMeanSquaredError: 0.5775 - loss: 0.3337 - val_RootMeanSquaredError: 1.1780 - val_loss: 1.3877\n",
      "Epoch 7/20\n",
      "\u001b[1m363/363\u001b[0m \u001b[32m━━━━━━━━━━━━━━━━━━━━\u001b[0m\u001b[37m\u001b[0m \u001b[1m1s\u001b[0m 2ms/step - RootMeanSquaredError: 0.5697 - loss: 0.3246 - val_RootMeanSquaredError: 1.5090 - val_loss: 2.2771\n",
      "Epoch 8/20\n",
      "\u001b[1m363/363\u001b[0m \u001b[32m━━━━━━━━━━━━━━━━━━━━\u001b[0m\u001b[37m\u001b[0m \u001b[1m1s\u001b[0m 2ms/step - RootMeanSquaredError: 0.5670 - loss: 0.3216 - val_RootMeanSquaredError: 1.6241 - val_loss: 2.6378\n",
      "Epoch 9/20\n",
      "\u001b[1m363/363\u001b[0m \u001b[32m━━━━━━━━━━━━━━━━━━━━\u001b[0m\u001b[37m\u001b[0m \u001b[1m1s\u001b[0m 2ms/step - RootMeanSquaredError: 0.5614 - loss: 0.3153 - val_RootMeanSquaredError: 2.1222 - val_loss: 4.5038\n",
      "Epoch 10/20\n",
      "\u001b[1m363/363\u001b[0m \u001b[32m━━━━━━━━━━━━━━━━━━━━\u001b[0m\u001b[37m\u001b[0m \u001b[1m1s\u001b[0m 2ms/step - RootMeanSquaredError: 0.5597 - loss: 0.3134 - val_RootMeanSquaredError: 0.9181 - val_loss: 0.8429\n",
      "Epoch 11/20\n",
      "\u001b[1m363/363\u001b[0m \u001b[32m━━━━━━━━━━━━━━━━━━━━\u001b[0m\u001b[37m\u001b[0m \u001b[1m1s\u001b[0m 2ms/step - RootMeanSquaredError: 0.5474 - loss: 0.2997 - val_RootMeanSquaredError: 0.8323 - val_loss: 0.6927\n",
      "Epoch 12/20\n",
      "\u001b[1m363/363\u001b[0m \u001b[32m━━━━━━━━━━━━━━━━━━━━\u001b[0m\u001b[37m\u001b[0m \u001b[1m1s\u001b[0m 2ms/step - RootMeanSquaredError: 0.5422 - loss: 0.2941 - val_RootMeanSquaredError: 0.6719 - val_loss: 0.4515\n",
      "Epoch 13/20\n",
      "\u001b[1m363/363\u001b[0m \u001b[32m━━━━━━━━━━━━━━━━━━━━\u001b[0m\u001b[37m\u001b[0m \u001b[1m1s\u001b[0m 3ms/step - RootMeanSquaredError: 0.5380 - loss: 0.2896 - val_RootMeanSquaredError: 0.6300 - val_loss: 0.3969\n",
      "Epoch 14/20\n",
      "\u001b[1m363/363\u001b[0m \u001b[32m━━━━━━━━━━━━━━━━━━━━\u001b[0m\u001b[37m\u001b[0m \u001b[1m1s\u001b[0m 3ms/step - RootMeanSquaredError: 0.5335 - loss: 0.2847 - val_RootMeanSquaredError: 0.5309 - val_loss: 0.2819\n",
      "Epoch 15/20\n",
      "\u001b[1m363/363\u001b[0m \u001b[32m━━━━━━━━━━━━━━━━━━━━\u001b[0m\u001b[37m\u001b[0m \u001b[1m1s\u001b[0m 2ms/step - RootMeanSquaredError: 0.5307 - loss: 0.2818 - val_RootMeanSquaredError: 0.5747 - val_loss: 0.3303\n",
      "Epoch 16/20\n",
      "\u001b[1m363/363\u001b[0m \u001b[32m━━━━━━━━━━━━━━━━━━━━\u001b[0m\u001b[37m\u001b[0m \u001b[1m1s\u001b[0m 3ms/step - RootMeanSquaredError: 0.5285 - loss: 0.2794 - val_RootMeanSquaredError: 0.5275 - val_loss: 0.2783\n",
      "Epoch 17/20\n",
      "\u001b[1m363/363\u001b[0m \u001b[32m━━━━━━━━━━━━━━━━━━━━\u001b[0m\u001b[37m\u001b[0m \u001b[1m1s\u001b[0m 2ms/step - RootMeanSquaredError: 0.5259 - loss: 0.2767 - val_RootMeanSquaredError: 0.6162 - val_loss: 0.3797\n",
      "Epoch 18/20\n",
      "\u001b[1m363/363\u001b[0m \u001b[32m━━━━━━━━━━━━━━━━━━━━\u001b[0m\u001b[37m\u001b[0m \u001b[1m1s\u001b[0m 2ms/step - RootMeanSquaredError: 0.5246 - loss: 0.2753 - val_RootMeanSquaredError: 0.5776 - val_loss: 0.3336\n",
      "Epoch 19/20\n",
      "\u001b[1m363/363\u001b[0m \u001b[32m━━━━━━━━━━━━━━━━━━━━\u001b[0m\u001b[37m\u001b[0m \u001b[1m1s\u001b[0m 2ms/step - RootMeanSquaredError: 0.5224 - loss: 0.2730 - val_RootMeanSquaredError: 1.2448 - val_loss: 1.5495\n",
      "Epoch 20/20\n",
      "\u001b[1m363/363\u001b[0m \u001b[32m━━━━━━━━━━━━━━━━━━━━\u001b[0m\u001b[37m\u001b[0m \u001b[1m1s\u001b[0m 3ms/step - RootMeanSquaredError: 0.5232 - loss: 0.2738 - val_RootMeanSquaredError: 0.5782 - val_loss: 0.3343\n",
      "\u001b[1m162/162\u001b[0m \u001b[32m━━━━━━━━━━━━━━━━━━━━\u001b[0m\u001b[37m\u001b[0m \u001b[1m0s\u001b[0m 1ms/step - RootMeanSquaredError: 0.5248 - loss: 0.2756\n",
      "테스트 데이터 평균 제곱 오차 (MSE): 0.28093063831329346\n",
      "테스트 데이터 평균 제곱 오차 (RMSE): 0.5300288796424866\n",
      "\u001b[1m1/1\u001b[0m \u001b[32m━━━━━━━━━━━━━━━━━━━━\u001b[0m\u001b[37m\u001b[0m \u001b[1m0s\u001b[0m 74ms/step\n"
     ]
    }
   ],
   "source": [
    "### 랜덤 시드 설정 \n",
    "tf.random.set_seed(42)\n",
    "\n",
    "### 정규화 층 추가\n",
    "norm_layer = tf.keras.layers.Normalization(input_shape=X_train.shape[1:])\n",
    "\n",
    "### 은닉층 + 출력층 추가 \n",
    "model = tf.keras.Sequential([\n",
    "    norm_layer,\n",
    "    tf.keras.layers.Dense(50, activation=\"relu\"),\n",
    "    tf.keras.layers.Dense(50, activation=\"relu\"),\n",
    "    tf.keras.layers.Dense(50, activation=\"relu\"),\n",
    "    tf.keras.layers.Dense(1)\n",
    "])\n",
    "\n",
    "### 옵티마이저 \n",
    "optimizer = tf.keras.optimizers.Adam(learning_rate=1e-3)\n",
    "\n",
    "### 모델 컴파일\n",
    "model.compile(\n",
    "    loss=\"mse\",\n",
    "    optimizer=optimizer,\n",
    "    metrics=[\"RootMeanSquaredError\"]\n",
    ")\n",
    "\n",
    "### adpt() : 정규화 층의 가중치 학습\n",
    "norm_layer.adapt(X_train)\n",
    "\n",
    "#### 모델 학습\n",
    "history = model.fit(\n",
    "    X_train, \n",
    "    y_train,\n",
    "    epochs=20,\n",
    "    validation_data=(X_valid, y_valid)\n",
    ")\n",
    "\n",
    "### 성능 지표 확인\n",
    "mse, rmse = model.evaluate(X_test, y_test)\n",
    "print(\"테스트 데이터 평균 제곱 오차 (MSE):\", mse)\n",
    "print(\"테스트 데이터 평균 제곱 오차 (RMSE):\", rmse)\n",
    "\n",
    "### 예측 \n",
    "X_new = X_test[:3]\n",
    "y_pred = model.predict(X_new)"
   ]
  },
  {
   "cell_type": "markdown",
   "id": "9eb86b19",
   "metadata": {},
   "source": [
    "## 함수형 API로 모델 만들기\n",
    "- 순차적이지 않은 신경망과 같은 복잡한 모델을 만들 때 유용\n",
    "\n",
    "- 예시 : `와이드 & 딥`\n",
    "  - 입력의 일부는 깊은 신경망에 입력하고, 나머지는 얕은 신경망에 입력하여 예측을 결합하는 모델\n",
    "  - 간단한 규칙과 복잡한 패턴을 모두 학습하는데 유리  "
   ]
  },
  {
   "cell_type": "markdown",
   "id": "a4e95b37",
   "metadata": {},
   "source": [
    "- 예시 : 캘리포니아 주택 데이터 - 와이드&딥 모델 적용"
   ]
  },
  {
   "cell_type": "code",
   "execution_count": 71,
   "id": "0338f95a",
   "metadata": {},
   "outputs": [
    {
     "data": {
      "text/html": [
       "<pre style=\"white-space:pre;overflow-x:auto;line-height:normal;font-family:Menlo,'DejaVu Sans Mono',consolas,'Courier New',monospace\"><span style=\"font-weight: bold\">Model: \"functional_10\"</span>\n",
       "</pre>\n"
      ],
      "text/plain": [
       "\u001b[1mModel: \"functional_10\"\u001b[0m\n"
      ]
     },
     "metadata": {},
     "output_type": "display_data"
    },
    {
     "data": {
      "text/html": [
       "<pre style=\"white-space:pre;overflow-x:auto;line-height:normal;font-family:Menlo,'DejaVu Sans Mono',consolas,'Courier New',monospace\">┏━━━━━━━━━━━━━━━━━━━━━┳━━━━━━━━━━━━━━━━━━━┳━━━━━━━━━━━━┳━━━━━━━━━━━━━━━━━━━┓\n",
       "┃<span style=\"font-weight: bold\"> Layer (type)        </span>┃<span style=\"font-weight: bold\"> Output Shape      </span>┃<span style=\"font-weight: bold\">    Param # </span>┃<span style=\"font-weight: bold\"> Connected to      </span>┃\n",
       "┡━━━━━━━━━━━━━━━━━━━━━╇━━━━━━━━━━━━━━━━━━━╇━━━━━━━━━━━━╇━━━━━━━━━━━━━━━━━━━┩\n",
       "│ input_layer_9       │ (<span style=\"color: #00d7ff; text-decoration-color: #00d7ff\">None</span>, <span style=\"color: #00af00; text-decoration-color: #00af00\">8</span>)         │          <span style=\"color: #00af00; text-decoration-color: #00af00\">0</span> │ -                 │\n",
       "│ (<span style=\"color: #0087ff; text-decoration-color: #0087ff\">InputLayer</span>)        │                   │            │                   │\n",
       "├─────────────────────┼───────────────────┼────────────┼───────────────────┤\n",
       "│ normalization_7     │ (<span style=\"color: #00d7ff; text-decoration-color: #00d7ff\">None</span>, <span style=\"color: #00af00; text-decoration-color: #00af00\">8</span>)         │         <span style=\"color: #00af00; text-decoration-color: #00af00\">17</span> │ input_layer_9[<span style=\"color: #00af00; text-decoration-color: #00af00\">0</span>]… │\n",
       "│ (<span style=\"color: #0087ff; text-decoration-color: #0087ff\">Normalization</span>)     │                   │            │                   │\n",
       "├─────────────────────┼───────────────────┼────────────┼───────────────────┤\n",
       "│ dense_23 (<span style=\"color: #0087ff; text-decoration-color: #0087ff\">Dense</span>)    │ (<span style=\"color: #00d7ff; text-decoration-color: #00d7ff\">None</span>, <span style=\"color: #00af00; text-decoration-color: #00af00\">30</span>)        │        <span style=\"color: #00af00; text-decoration-color: #00af00\">270</span> │ normalization_7[<span style=\"color: #00af00; text-decoration-color: #00af00\">…</span> │\n",
       "├─────────────────────┼───────────────────┼────────────┼───────────────────┤\n",
       "│ dense_24 (<span style=\"color: #0087ff; text-decoration-color: #0087ff\">Dense</span>)    │ (<span style=\"color: #00d7ff; text-decoration-color: #00d7ff\">None</span>, <span style=\"color: #00af00; text-decoration-color: #00af00\">30</span>)        │        <span style=\"color: #00af00; text-decoration-color: #00af00\">930</span> │ dense_23[<span style=\"color: #00af00; text-decoration-color: #00af00\">0</span>][<span style=\"color: #00af00; text-decoration-color: #00af00\">0</span>]    │\n",
       "├─────────────────────┼───────────────────┼────────────┼───────────────────┤\n",
       "│ concatenate_3       │ (<span style=\"color: #00d7ff; text-decoration-color: #00d7ff\">None</span>, <span style=\"color: #00af00; text-decoration-color: #00af00\">38</span>)        │          <span style=\"color: #00af00; text-decoration-color: #00af00\">0</span> │ normalization_7[<span style=\"color: #00af00; text-decoration-color: #00af00\">…</span> │\n",
       "│ (<span style=\"color: #0087ff; text-decoration-color: #0087ff\">Concatenate</span>)       │                   │            │ dense_24[<span style=\"color: #00af00; text-decoration-color: #00af00\">0</span>][<span style=\"color: #00af00; text-decoration-color: #00af00\">0</span>]    │\n",
       "├─────────────────────┼───────────────────┼────────────┼───────────────────┤\n",
       "│ dense_25 (<span style=\"color: #0087ff; text-decoration-color: #0087ff\">Dense</span>)    │ (<span style=\"color: #00d7ff; text-decoration-color: #00d7ff\">None</span>, <span style=\"color: #00af00; text-decoration-color: #00af00\">1</span>)         │         <span style=\"color: #00af00; text-decoration-color: #00af00\">39</span> │ concatenate_3[<span style=\"color: #00af00; text-decoration-color: #00af00\">0</span>]… │\n",
       "└─────────────────────┴───────────────────┴────────────┴───────────────────┘\n",
       "</pre>\n"
      ],
      "text/plain": [
       "┏━━━━━━━━━━━━━━━━━━━━━┳━━━━━━━━━━━━━━━━━━━┳━━━━━━━━━━━━┳━━━━━━━━━━━━━━━━━━━┓\n",
       "┃\u001b[1m \u001b[0m\u001b[1mLayer (type)       \u001b[0m\u001b[1m \u001b[0m┃\u001b[1m \u001b[0m\u001b[1mOutput Shape     \u001b[0m\u001b[1m \u001b[0m┃\u001b[1m \u001b[0m\u001b[1m   Param #\u001b[0m\u001b[1m \u001b[0m┃\u001b[1m \u001b[0m\u001b[1mConnected to     \u001b[0m\u001b[1m \u001b[0m┃\n",
       "┡━━━━━━━━━━━━━━━━━━━━━╇━━━━━━━━━━━━━━━━━━━╇━━━━━━━━━━━━╇━━━━━━━━━━━━━━━━━━━┩\n",
       "│ input_layer_9       │ (\u001b[38;5;45mNone\u001b[0m, \u001b[38;5;34m8\u001b[0m)         │          \u001b[38;5;34m0\u001b[0m │ -                 │\n",
       "│ (\u001b[38;5;33mInputLayer\u001b[0m)        │                   │            │                   │\n",
       "├─────────────────────┼───────────────────┼────────────┼───────────────────┤\n",
       "│ normalization_7     │ (\u001b[38;5;45mNone\u001b[0m, \u001b[38;5;34m8\u001b[0m)         │         \u001b[38;5;34m17\u001b[0m │ input_layer_9[\u001b[38;5;34m0\u001b[0m]… │\n",
       "│ (\u001b[38;5;33mNormalization\u001b[0m)     │                   │            │                   │\n",
       "├─────────────────────┼───────────────────┼────────────┼───────────────────┤\n",
       "│ dense_23 (\u001b[38;5;33mDense\u001b[0m)    │ (\u001b[38;5;45mNone\u001b[0m, \u001b[38;5;34m30\u001b[0m)        │        \u001b[38;5;34m270\u001b[0m │ normalization_7[\u001b[38;5;34m…\u001b[0m │\n",
       "├─────────────────────┼───────────────────┼────────────┼───────────────────┤\n",
       "│ dense_24 (\u001b[38;5;33mDense\u001b[0m)    │ (\u001b[38;5;45mNone\u001b[0m, \u001b[38;5;34m30\u001b[0m)        │        \u001b[38;5;34m930\u001b[0m │ dense_23[\u001b[38;5;34m0\u001b[0m][\u001b[38;5;34m0\u001b[0m]    │\n",
       "├─────────────────────┼───────────────────┼────────────┼───────────────────┤\n",
       "│ concatenate_3       │ (\u001b[38;5;45mNone\u001b[0m, \u001b[38;5;34m38\u001b[0m)        │          \u001b[38;5;34m0\u001b[0m │ normalization_7[\u001b[38;5;34m…\u001b[0m │\n",
       "│ (\u001b[38;5;33mConcatenate\u001b[0m)       │                   │            │ dense_24[\u001b[38;5;34m0\u001b[0m][\u001b[38;5;34m0\u001b[0m]    │\n",
       "├─────────────────────┼───────────────────┼────────────┼───────────────────┤\n",
       "│ dense_25 (\u001b[38;5;33mDense\u001b[0m)    │ (\u001b[38;5;45mNone\u001b[0m, \u001b[38;5;34m1\u001b[0m)         │         \u001b[38;5;34m39\u001b[0m │ concatenate_3[\u001b[38;5;34m0\u001b[0m]… │\n",
       "└─────────────────────┴───────────────────┴────────────┴───────────────────┘\n"
      ]
     },
     "metadata": {},
     "output_type": "display_data"
    },
    {
     "data": {
      "text/html": [
       "<pre style=\"white-space:pre;overflow-x:auto;line-height:normal;font-family:Menlo,'DejaVu Sans Mono',consolas,'Courier New',monospace\"><span style=\"font-weight: bold\"> Total params: </span><span style=\"color: #00af00; text-decoration-color: #00af00\">1,256</span> (4.91 KB)\n",
       "</pre>\n"
      ],
      "text/plain": [
       "\u001b[1m Total params: \u001b[0m\u001b[38;5;34m1,256\u001b[0m (4.91 KB)\n"
      ]
     },
     "metadata": {},
     "output_type": "display_data"
    },
    {
     "data": {
      "text/html": [
       "<pre style=\"white-space:pre;overflow-x:auto;line-height:normal;font-family:Menlo,'DejaVu Sans Mono',consolas,'Courier New',monospace\"><span style=\"font-weight: bold\"> Trainable params: </span><span style=\"color: #00af00; text-decoration-color: #00af00\">1,239</span> (4.84 KB)\n",
       "</pre>\n"
      ],
      "text/plain": [
       "\u001b[1m Trainable params: \u001b[0m\u001b[38;5;34m1,239\u001b[0m (4.84 KB)\n"
      ]
     },
     "metadata": {},
     "output_type": "display_data"
    },
    {
     "data": {
      "text/html": [
       "<pre style=\"white-space:pre;overflow-x:auto;line-height:normal;font-family:Menlo,'DejaVu Sans Mono',consolas,'Courier New',monospace\"><span style=\"font-weight: bold\"> Non-trainable params: </span><span style=\"color: #00af00; text-decoration-color: #00af00\">17</span> (72.00 B)\n",
       "</pre>\n"
      ],
      "text/plain": [
       "\u001b[1m Non-trainable params: \u001b[0m\u001b[38;5;34m17\u001b[0m (72.00 B)\n"
      ]
     },
     "metadata": {},
     "output_type": "display_data"
    }
   ],
   "source": [
    "tf.compat.v1.reset_default_graph()\n",
    "tf.random.set_seed(42)\n",
    "\n",
    "### 표준화를 위해 정규화 층 추가\n",
    "normalization_layer = tf.keras.layers.Normalization()\n",
    "\n",
    "### ReLU 활성화 함수를 가진 은닉층 2개 추가\n",
    "hidden_layer1 = tf.keras.layers.Dense(30, activation=\"relu\")\n",
    "hidden_layer2 = tf.keras.layers.Dense(30, activation=\"relu\")\n",
    "\n",
    "### Concatenate 층 추가 - 입력층과 두번째 은닉층을 연결\n",
    "concat_layer = tf.keras.layers.Concatenate()\n",
    "### 출력층 추가 - 뉴런 1개\n",
    "output_layer = tf.keras.layers.Dense(1)\n",
    "\n",
    "### 정규화 층을 객체처럼 불러움\n",
    "input_ = tf.keras.layers.Input(shape=X_train.shape[1:])\n",
    "normalized = normalization_layer(input_)\n",
    "\n",
    "hidden1 = hidden_layer1(normalized)\n",
    "hidden2 = hidden_layer2(hidden1)\n",
    "concat = concat_layer([normalized, hidden2])\n",
    "output = output_layer(concat)\n",
    "\n",
    "model = tf.keras.Model(inputs=[input_], outputs=[output])\n",
    "\n",
    "model.summary()"
   ]
  },
  {
   "cell_type": "markdown",
   "id": "bbd9ddd6",
   "metadata": {},
   "source": [
    "- 컴파일, 학습, 평가"
   ]
  },
  {
   "cell_type": "code",
   "execution_count": 72,
   "id": "ea4dae04",
   "metadata": {},
   "outputs": [],
   "source": [
    "input_wide = tf.keras.layers.Input(shape=[5])  # 특성 0 ~ 4\n",
    "input_deep = tf.keras.layers.Input(shape=[6])  # 특성 2 ~ 7\n",
    "norm_layer_wide = tf.keras.layers.Normalization()\n",
    "norm_layer_deep = tf.keras.layers.Normalization()\n",
    "norm_wide = norm_layer_wide(input_wide)\n",
    "norm_deep = norm_layer_deep(input_deep)\n",
    "hidden1 = tf.keras.layers.Dense(30, activation=\"relu\")(norm_deep)\n",
    "hidden2 = tf.keras.layers.Dense(30, activation=\"relu\")(hidden1)\n",
    "concat = tf.keras.layers.concatenate([norm_wide, hidden2])\n",
    "output = tf.keras.layers.Dense(1)(concat)\n",
    "model = tf.keras.Model(inputs=[input_wide, input_deep], outputs=[output])"
   ]
  },
  {
   "cell_type": "code",
   "execution_count": 73,
   "id": "2cb67904",
   "metadata": {},
   "outputs": [],
   "source": [
    "optimizer = tf.keras.optimizers.Adam(learning_rate=1e-3)\n",
    "model.compile(loss=\"mse\", optimizer=optimizer, metrics=[\"RootMeanSquaredError\"])\n",
    "\n",
    "X_train_wide, X_train_deep = X_train[:, :5], X_train[:, 2:]\n",
    "X_valid_wide, X_valid_deep = X_valid[:, :5], X_valid[:, 2:]\n",
    "X_test_wide, X_test_deep = X_test[:, :5], X_test[:, 2:]\n",
    "X_new_wide, X_new_deep = X_test_wide[:3], X_test_deep[:3]"
   ]
  },
  {
   "cell_type": "code",
   "execution_count": 74,
   "id": "b442b8bc",
   "metadata": {},
   "outputs": [
    {
     "data": {
      "text/plain": [
       "(11610, 5)"
      ]
     },
     "execution_count": 74,
     "metadata": {},
     "output_type": "execute_result"
    }
   ],
   "source": [
    "X_train_wide.shape"
   ]
  },
  {
   "cell_type": "code",
   "execution_count": 75,
   "id": "a76876ba",
   "metadata": {},
   "outputs": [
    {
     "name": "stdout",
     "output_type": "stream",
     "text": [
      "Epoch 1/20\n",
      "\u001b[1m363/363\u001b[0m \u001b[32m━━━━━━━━━━━━━━━━━━━━\u001b[0m\u001b[37m\u001b[0m \u001b[1m2s\u001b[0m 3ms/step - RootMeanSquaredError: 1.6075 - loss: 2.6879 - val_RootMeanSquaredError: 1.3201 - val_loss: 1.7426\n",
      "Epoch 2/20\n",
      "\u001b[1m363/363\u001b[0m \u001b[32m━━━━━━━━━━━━━━━━━━━━\u001b[0m\u001b[37m\u001b[0m \u001b[1m1s\u001b[0m 3ms/step - RootMeanSquaredError: 0.7572 - loss: 0.5740 - val_RootMeanSquaredError: 1.2739 - val_loss: 1.6229\n",
      "Epoch 3/20\n",
      "\u001b[1m363/363\u001b[0m \u001b[32m━━━━━━━━━━━━━━━━━━━━\u001b[0m\u001b[37m\u001b[0m \u001b[1m1s\u001b[0m 3ms/step - RootMeanSquaredError: 0.6934 - loss: 0.4809 - val_RootMeanSquaredError: 1.7276 - val_loss: 2.9847\n",
      "Epoch 4/20\n",
      "\u001b[1m363/363\u001b[0m \u001b[32m━━━━━━━━━━━━━━━━━━━━\u001b[0m\u001b[37m\u001b[0m \u001b[1m1s\u001b[0m 2ms/step - RootMeanSquaredError: 0.6639 - loss: 0.4409 - val_RootMeanSquaredError: 1.7670 - val_loss: 3.1222\n",
      "Epoch 5/20\n",
      "\u001b[1m363/363\u001b[0m \u001b[32m━━━━━━━━━━━━━━━━━━━━\u001b[0m\u001b[37m\u001b[0m \u001b[1m1s\u001b[0m 3ms/step - RootMeanSquaredError: 0.6457 - loss: 0.4170 - val_RootMeanSquaredError: 2.0007 - val_loss: 4.0028\n",
      "Epoch 6/20\n",
      "\u001b[1m363/363\u001b[0m \u001b[32m━━━━━━━━━━━━━━━━━━━━\u001b[0m\u001b[37m\u001b[0m \u001b[1m1s\u001b[0m 2ms/step - RootMeanSquaredError: 0.6371 - loss: 0.4060 - val_RootMeanSquaredError: 2.2632 - val_loss: 5.1220\n",
      "Epoch 7/20\n",
      "\u001b[1m363/363\u001b[0m \u001b[32m━━━━━━━━━━━━━━━━━━━━\u001b[0m\u001b[37m\u001b[0m \u001b[1m1s\u001b[0m 2ms/step - RootMeanSquaredError: 0.6310 - loss: 0.3983 - val_RootMeanSquaredError: 2.2034 - val_loss: 4.8550\n",
      "Epoch 8/20\n",
      "\u001b[1m363/363\u001b[0m \u001b[32m━━━━━━━━━━━━━━━━━━━━\u001b[0m\u001b[37m\u001b[0m \u001b[1m1s\u001b[0m 2ms/step - RootMeanSquaredError: 0.6263 - loss: 0.3924 - val_RootMeanSquaredError: 1.8240 - val_loss: 3.3271\n",
      "Epoch 9/20\n",
      "\u001b[1m363/363\u001b[0m \u001b[32m━━━━━━━━━━━━━━━━━━━━\u001b[0m\u001b[37m\u001b[0m \u001b[1m1s\u001b[0m 3ms/step - RootMeanSquaredError: 0.6144 - loss: 0.3776 - val_RootMeanSquaredError: 1.8229 - val_loss: 3.3230\n",
      "Epoch 10/20\n",
      "\u001b[1m363/363\u001b[0m \u001b[32m━━━━━━━━━━━━━━━━━━━━\u001b[0m\u001b[37m\u001b[0m \u001b[1m1s\u001b[0m 3ms/step - RootMeanSquaredError: 0.6095 - loss: 0.3715 - val_RootMeanSquaredError: 1.9543 - val_loss: 3.8194\n",
      "Epoch 11/20\n",
      "\u001b[1m363/363\u001b[0m \u001b[32m━━━━━━━━━━━━━━━━━━━━\u001b[0m\u001b[37m\u001b[0m \u001b[1m1s\u001b[0m 3ms/step - RootMeanSquaredError: 0.6083 - loss: 0.3702 - val_RootMeanSquaredError: 2.0885 - val_loss: 4.3620\n",
      "Epoch 12/20\n",
      "\u001b[1m363/363\u001b[0m \u001b[32m━━━━━━━━━━━━━━━━━━━━\u001b[0m\u001b[37m\u001b[0m \u001b[1m1s\u001b[0m 3ms/step - RootMeanSquaredError: 0.6085 - loss: 0.3704 - val_RootMeanSquaredError: 2.0311 - val_loss: 4.1254\n",
      "Epoch 13/20\n",
      "\u001b[1m363/363\u001b[0m \u001b[32m━━━━━━━━━━━━━━━━━━━━\u001b[0m\u001b[37m\u001b[0m \u001b[1m1s\u001b[0m 3ms/step - RootMeanSquaredError: 0.6046 - loss: 0.3657 - val_RootMeanSquaredError: 1.6174 - val_loss: 2.6160\n",
      "Epoch 14/20\n",
      "\u001b[1m363/363\u001b[0m \u001b[32m━━━━━━━━━━━━━━━━━━━━\u001b[0m\u001b[37m\u001b[0m \u001b[1m1s\u001b[0m 3ms/step - RootMeanSquaredError: 0.5990 - loss: 0.3589 - val_RootMeanSquaredError: 1.5592 - val_loss: 2.4310\n",
      "Epoch 15/20\n",
      "\u001b[1m363/363\u001b[0m \u001b[32m━━━━━━━━━━━━━━━━━━━━\u001b[0m\u001b[37m\u001b[0m \u001b[1m1s\u001b[0m 3ms/step - RootMeanSquaredError: 0.5950 - loss: 0.3541 - val_RootMeanSquaredError: 1.4412 - val_loss: 2.0770\n",
      "Epoch 16/20\n",
      "\u001b[1m363/363\u001b[0m \u001b[32m━━━━━━━━━━━━━━━━━━━━\u001b[0m\u001b[37m\u001b[0m \u001b[1m1s\u001b[0m 3ms/step - RootMeanSquaredError: 0.5925 - loss: 0.3511 - val_RootMeanSquaredError: 1.4179 - val_loss: 2.0104\n",
      "Epoch 17/20\n",
      "\u001b[1m363/363\u001b[0m \u001b[32m━━━━━━━━━━━━━━━━━━━━\u001b[0m\u001b[37m\u001b[0m \u001b[1m1s\u001b[0m 3ms/step - RootMeanSquaredError: 0.5899 - loss: 0.3480 - val_RootMeanSquaredError: 1.3582 - val_loss: 1.8448\n",
      "Epoch 18/20\n",
      "\u001b[1m363/363\u001b[0m \u001b[32m━━━━━━━━━━━━━━━━━━━━\u001b[0m\u001b[37m\u001b[0m \u001b[1m1s\u001b[0m 3ms/step - RootMeanSquaredError: 0.5877 - loss: 0.3455 - val_RootMeanSquaredError: 1.4116 - val_loss: 1.9926\n",
      "Epoch 19/20\n",
      "\u001b[1m363/363\u001b[0m \u001b[32m━━━━━━━━━━━━━━━━━━━━\u001b[0m\u001b[37m\u001b[0m \u001b[1m1s\u001b[0m 3ms/step - RootMeanSquaredError: 0.5865 - loss: 0.3440 - val_RootMeanSquaredError: 1.3490 - val_loss: 1.8199\n",
      "Epoch 20/20\n",
      "\u001b[1m363/363\u001b[0m \u001b[32m━━━━━━━━━━━━━━━━━━━━\u001b[0m\u001b[37m\u001b[0m \u001b[1m1s\u001b[0m 3ms/step - RootMeanSquaredError: 0.5847 - loss: 0.3419 - val_RootMeanSquaredError: 1.4192 - val_loss: 2.0142\n",
      "\u001b[1m162/162\u001b[0m \u001b[32m━━━━━━━━━━━━━━━━━━━━\u001b[0m\u001b[37m\u001b[0m \u001b[1m0s\u001b[0m 2ms/step - RootMeanSquaredError: 0.5842 - loss: 0.3415\n",
      "WARNING:tensorflow:5 out of the last 5 calls to <function TensorFlowTrainer.make_predict_function.<locals>.one_step_on_data_distributed at 0x0000023B82D4C5E0> triggered tf.function retracing. Tracing is expensive and the excessive number of tracings could be due to (1) creating @tf.function repeatedly in a loop, (2) passing tensors with different shapes, (3) passing Python objects instead of tensors. For (1), please define your @tf.function outside of the loop. For (2), @tf.function has reduce_retracing=True option that can avoid unnecessary retracing. For (3), please refer to https://www.tensorflow.org/guide/function#controlling_retracing and https://www.tensorflow.org/api_docs/python/tf/function for  more details.\n",
      "\u001b[1m1/1\u001b[0m \u001b[32m━━━━━━━━━━━━━━━━━━━━\u001b[0m\u001b[37m\u001b[0m \u001b[1m0s\u001b[0m 109ms/step\n"
     ]
    }
   ],
   "source": [
    "norm_layer_wide.adapt(X_train_wide)\n",
    "norm_layer_deep.adapt(X_train_deep)\n",
    "history = model.fit((X_train_wide, X_train_deep), y_train, epochs=20,\n",
    "                    validation_data=((X_valid_wide, X_valid_deep), y_valid))\n",
    "mse_test = model.evaluate((X_test_wide, X_test_deep), y_test)\n",
    "y_pred = model.predict((X_new_wide, X_new_deep))"
   ]
  },
  {
   "cell_type": "markdown",
   "id": "9de3c606",
   "metadata": {},
   "source": [
    "## 서브클래싱 API 동적 모델 생성 \n",
    "### 시퀀셜 API와 함수형 API 의 단점\n",
    "- 시퀀쎨 API와 함수형 API -선언적 \n",
    "  - 장점 \n",
    "    - 모델 저장, 복사, 공유가 쉬움 \n",
    "    - 모델 구조 출력 및 복사가 쉬움 \n",
    " - 단점 \n",
    "   - 정적인 구조를 가짐 -> 동적인 구조를 필요로 하는 경우에 적합하지 않음  \n",
    "\n",
    "   ### 서브클래싱 API의 장점 \n",
    "- 동적 모델 구현 가능 \n",
    "- 명령형 프로그래밍 스타일을 구현 가능 \n",
    "    - for문이나 if문, 저수준 텐서플로 연산 등에서 사용 가능 \n",
    "\n",
    "### 케리스를 이용한 서브클래싱 API 모델 생성\n",
    "- Model 클래스로 필요한 층 생성 \n",
    "- `call()` 메소드로 수행하려는 연산 정의 \n",
    "- `WideAndDeepModel` 클래스를 상속받아 모델 생성"
   ]
  },
  {
   "cell_type": "markdown",
   "id": "acac84ee",
   "metadata": {},
   "source": [
    "- 예제 : WideAndDeep 모델 생성 "
   ]
  },
  {
   "cell_type": "code",
   "execution_count": 76,
   "id": "8fe6a6e5",
   "metadata": {},
   "outputs": [
    {
     "name": "stdout",
     "output_type": "stream",
     "text": [
      "Epoch 1/10\n",
      "\u001b[1m363/363\u001b[0m \u001b[32m━━━━━━━━━━━━━━━━━━━━\u001b[0m\u001b[37m\u001b[0m \u001b[1m4s\u001b[0m 4ms/step - RootMeanSquaredError: 1.8685 - RootMeanSquaredError_1: 1.7527 - loss: 3.5547 - mse_loss: 3.1359 - val_RootMeanSquaredError: 0.9561 - val_RootMeanSquaredError_1: 1.0901 - val_loss: 0.9415 - val_mse_loss: 1.1880\n",
      "Epoch 2/10\n",
      "\u001b[1m363/363\u001b[0m \u001b[32m━━━━━━━━━━━━━━━━━━━━\u001b[0m\u001b[37m\u001b[0m \u001b[1m1s\u001b[0m 3ms/step - RootMeanSquaredError: 0.8603 - RootMeanSquaredError_1: 0.8990 - loss: 0.7484 - mse_loss: 0.8104 - val_RootMeanSquaredError: 0.7338 - val_RootMeanSquaredError_1: 0.7853 - val_loss: 0.5463 - val_mse_loss: 0.6166\n",
      "Epoch 3/10\n",
      "\u001b[1m363/363\u001b[0m \u001b[32m━━━━━━━━━━━━━━━━━━━━\u001b[0m\u001b[37m\u001b[0m \u001b[1m1s\u001b[0m 3ms/step - RootMeanSquaredError: 0.7416 - RootMeanSquaredError_1: 0.7608 - loss: 0.5531 - mse_loss: 0.5791 - val_RootMeanSquaredError: 0.9014 - val_RootMeanSquaredError_1: 1.2520 - val_loss: 0.8880 - val_mse_loss: 1.5668\n",
      "Epoch 4/10\n",
      "\u001b[1m363/363\u001b[0m \u001b[32m━━━━━━━━━━━━━━━━━━━━\u001b[0m\u001b[37m\u001b[0m \u001b[1m1s\u001b[0m 3ms/step - RootMeanSquaredError: 0.6888 - RootMeanSquaredError_1: 0.7314 - loss: 0.4806 - mse_loss: 0.5350 - val_RootMeanSquaredError: 1.0674 - val_RootMeanSquaredError_1: 1.4544 - val_loss: 1.2370 - val_mse_loss: 2.1144\n",
      "Epoch 5/10\n",
      "\u001b[1m363/363\u001b[0m \u001b[32m━━━━━━━━━━━━━━━━━━━━\u001b[0m\u001b[37m\u001b[0m \u001b[1m1s\u001b[0m 3ms/step - RootMeanSquaredError: 0.6558 - RootMeanSquaredError_1: 0.7145 - loss: 0.4382 - mse_loss: 0.5106 - val_RootMeanSquaredError: 1.1438 - val_RootMeanSquaredError_1: 1.8198 - val_loss: 1.5087 - val_mse_loss: 3.3103\n",
      "Epoch 6/10\n",
      "\u001b[1m363/363\u001b[0m \u001b[32m━━━━━━━━━━━━━━━━━━━━\u001b[0m\u001b[37m\u001b[0m \u001b[1m1s\u001b[0m 3ms/step - RootMeanSquaredError: 0.6345 - RootMeanSquaredError_1: 0.6987 - loss: 0.4113 - mse_loss: 0.4883 - val_RootMeanSquaredError: 1.3312 - val_RootMeanSquaredError_1: 1.3092 - val_loss: 1.7662 - val_mse_loss: 1.7132\n",
      "Epoch 7/10\n",
      "\u001b[1m363/363\u001b[0m \u001b[32m━━━━━━━━━━━━━━━━━━━━\u001b[0m\u001b[37m\u001b[0m \u001b[1m1s\u001b[0m 3ms/step - RootMeanSquaredError: 0.6185 - RootMeanSquaredError_1: 0.6799 - loss: 0.3906 - mse_loss: 0.4624 - val_RootMeanSquaredError: 0.5973 - val_RootMeanSquaredError_1: 0.8972 - val_loss: 0.4015 - val_mse_loss: 0.8048\n",
      "Epoch 8/10\n",
      "\u001b[1m363/363\u001b[0m \u001b[32m━━━━━━━━━━━━━━━━━━━━\u001b[0m\u001b[37m\u001b[0m \u001b[1m1s\u001b[0m 3ms/step - RootMeanSquaredError: 0.6052 - RootMeanSquaredError_1: 0.6653 - loss: 0.3740 - mse_loss: 0.4428 - val_RootMeanSquaredError: 0.5824 - val_RootMeanSquaredError_1: 0.7508 - val_loss: 0.3616 - val_mse_loss: 0.5637\n",
      "Epoch 9/10\n",
      "\u001b[1m363/363\u001b[0m \u001b[32m━━━━━━━━━━━━━━━━━━━━\u001b[0m\u001b[37m\u001b[0m \u001b[1m1s\u001b[0m 3ms/step - RootMeanSquaredError: 0.5973 - RootMeanSquaredError_1: 0.6555 - loss: 0.3642 - mse_loss: 0.4299 - val_RootMeanSquaredError: 0.6172 - val_RootMeanSquaredError_1: 0.7750 - val_loss: 0.4029 - val_mse_loss: 0.6005\n",
      "Epoch 10/10\n",
      "\u001b[1m363/363\u001b[0m \u001b[32m━━━━━━━━━━━━━━━━━━━━\u001b[0m\u001b[37m\u001b[0m \u001b[1m1s\u001b[0m 3ms/step - RootMeanSquaredError: 0.5925 - RootMeanSquaredError_1: 0.6481 - loss: 0.3581 - mse_loss: 0.4202 - val_RootMeanSquaredError: 0.7573 - val_RootMeanSquaredError_1: 0.8247 - val_loss: 0.5842 - val_mse_loss: 0.6799\n",
      "\u001b[1m162/162\u001b[0m \u001b[32m━━━━━━━━━━━━━━━━━━━━\u001b[0m\u001b[37m\u001b[0m \u001b[1m0s\u001b[0m 2ms/step - RootMeanSquaredError: 0.5894 - RootMeanSquaredError_1: 0.6481 - loss: 0.3547 - mse_loss: 0.4200\n",
      "WARNING:tensorflow:6 out of the last 6 calls to <function TensorFlowTrainer.make_predict_function.<locals>.one_step_on_data_distributed at 0x0000023B81BE8FE0> triggered tf.function retracing. Tracing is expensive and the excessive number of tracings could be due to (1) creating @tf.function repeatedly in a loop, (2) passing tensors with different shapes, (3) passing Python objects instead of tensors. For (1), please define your @tf.function outside of the loop. For (2), @tf.function has reduce_retracing=True option that can avoid unnecessary retracing. For (3), please refer to https://www.tensorflow.org/guide/function#controlling_retracing and https://www.tensorflow.org/api_docs/python/tf/function for  more details.\n",
      "\u001b[1m1/1\u001b[0m \u001b[32m━━━━━━━━━━━━━━━━━━━━\u001b[0m\u001b[37m\u001b[0m \u001b[1m0s\u001b[0m 127ms/step\n"
     ]
    }
   ],
   "source": [
    "import keras\n",
    "\n",
    "@keras.saving.register_keras_serializable()\n",
    "class WideAndDeepModel(tf.keras.Model):\n",
    "    def __init__(self, units=30, activation=\"relu\", **kwargs):\n",
    "        super().__init__(**kwargs)  # 모델 이름을 지정하는 데 필요합니다\n",
    "        self.norm_layer_wide = tf.keras.layers.Normalization()\n",
    "        self.norm_layer_deep = tf.keras.layers.Normalization()\n",
    "        self.hidden1 = tf.keras.layers.Dense(units, activation=activation)\n",
    "        self.hidden2 = tf.keras.layers.Dense(units, activation=activation)\n",
    "        self.main_output = tf.keras.layers.Dense(1)\n",
    "        self.aux_output = tf.keras.layers.Dense(1)\n",
    "\n",
    "    def call(self, inputs):\n",
    "        input_wide, input_deep = inputs\n",
    "        norm_wide = self.norm_layer_wide(input_wide)\n",
    "        norm_deep = self.norm_layer_deep(input_deep)\n",
    "        hidden1 = self.hidden1(norm_deep)\n",
    "        hidden2 = self.hidden2(hidden1)\n",
    "        concat = tf.keras.layers.concatenate([norm_wide, hidden2])\n",
    "        output = self.main_output(concat)\n",
    "        aux_output = self.aux_output(hidden2)\n",
    "        return output, aux_output\n",
    "\n",
    "\n",
    "tf.random.set_seed(42) \n",
    "\n",
    "### 객체 생성\n",
    "model = WideAndDeepModel(30, activation=\"relu\", name=\"my_cool_model\")\n",
    "\n",
    "optimizer = tf.keras.optimizers.Adam(learning_rate=1e-3)\n",
    "model.compile(loss=[\"mse\", \"mse\"], loss_weights=[0.9, 0.1], optimizer=optimizer,\n",
    "              metrics=[\"RootMeanSquaredError\", \"RootMeanSquaredError\"])\n",
    "model.norm_layer_wide.adapt(X_train_wide)\n",
    "model.norm_layer_deep.adapt(X_train_deep)\n",
    "history = model.fit(\n",
    "    (X_train_wide, X_train_deep), (y_train, y_train), epochs=10,\n",
    "    validation_data=((X_valid_wide, X_valid_deep), (y_valid, y_valid)))\n",
    "eval_results = model.evaluate((X_test_wide, X_test_deep), (y_test, y_test))\n",
    "y_pred_main, y_pred_aux = model.predict((X_new_wide, X_new_deep))"
   ]
  },
  {
   "cell_type": "markdown",
   "id": "f8f4041f",
   "metadata": {},
   "source": [
    "## 모델 저장 및 복원\n",
    "\n",
    "### 모델의 저장\n",
    "- `model.save` 를 이용해 케라스 모델을 저장 가능 \n",
    "  - 저장된 파일에는 모델의 아키텍처와 로직이 직렬화된 계산 그래프 형태로 포함 -> 소스코드 배포 필요 X \n",
    "\n",
    "#### 저장 모델의 특징 \n",
    "- `keras.metadata.pb` : 케라스에서 필요한 메타데이터를 포함 \n",
    "- `variables/` : 파라미터 값 (연결 가중치, 편향, 정규화 통계치, 옵티마이저 등)\n",
    "- `assets/` : 모델의 추가적인 자원 (데이터 샘플, 특성 이름, 클래스 이름 등)"
   ]
  },
  {
   "cell_type": "code",
   "execution_count": 80,
   "id": "abc72322",
   "metadata": {},
   "outputs": [],
   "source": [
    "import shutil\n",
    "shutil.rmtree(\"my_keras_model\", ignore_errors=True)\n",
    "\n",
    "model.save(\"my_keras_model.keras\")"
   ]
  },
  {
   "cell_type": "markdown",
   "id": "5897b3c0",
   "metadata": {},
   "source": [
    "#### 모델 로드 \n",
    "- `save_weight` 와 `load_weight` 로 파라미터 값만 저장 / 로드 가능 \n",
    "  - 장점 : 가중치만 저장하는 것이 전체 모델을 저장 하는 것 보다 공간을 덜 사용함 "
   ]
  },
  {
   "cell_type": "code",
   "execution_count": 81,
   "id": "f8e14f39",
   "metadata": {},
   "outputs": [
    {
     "name": "stdout",
     "output_type": "stream",
     "text": [
      "\u001b[1m1/1\u001b[0m \u001b[32m━━━━━━━━━━━━━━━━━━━━\u001b[0m\u001b[37m\u001b[0m \u001b[1m0s\u001b[0m 112ms/step\n"
     ]
    }
   ],
   "source": [
    "### 모델 로드\n",
    "model = tf.keras.models.load_model(\"my_keras_model.keras\")\n",
    "y_pred_main, y_pred_aux = model.predict((X_new_wide, X_new_deep))"
   ]
  },
  {
   "cell_type": "code",
   "execution_count": 82,
   "id": "b29fc283",
   "metadata": {},
   "outputs": [],
   "source": [
    "model.save_weights(\"my_weights.weights.h5\")\n",
    "model.load_weights(\"my_weights.weights.h5\")\n",
    "model.save(\"my_model.keras\")"
   ]
  },
  {
   "cell_type": "markdown",
   "id": "928b0244",
   "metadata": {},
   "source": [
    "#### 콜백 사용하기 \n",
    "- fit 에서 `callbacks` 인자를 사용해 콜백을 전달 가능\n",
    "  - 훈련의 시작 전이나 후에 호출 할 객체 리스트를 지정 가능 "
   ]
  },
  {
   "cell_type": "code",
   "execution_count": 85,
   "id": "89d0d618",
   "metadata": {},
   "outputs": [
    {
     "name": "stdout",
     "output_type": "stream",
     "text": [
      "Epoch 1/10\n",
      "\u001b[1m363/363\u001b[0m \u001b[32m━━━━━━━━━━━━━━━━━━━━\u001b[0m\u001b[37m\u001b[0m \u001b[1m2s\u001b[0m 3ms/step - RootMeanSquaredError: 0.5885 - RootMeanSquaredError_1: 0.6440 - loss: 0.3532 - mse_loss: 0.4150 - val_RootMeanSquaredError: 1.0422 - val_RootMeanSquaredError_1: 1.3678 - val_loss: 1.1647 - val_mse_loss: 1.8700\n",
      "Epoch 2/10\n",
      "\u001b[1m363/363\u001b[0m \u001b[32m━━━━━━━━━━━━━━━━━━━━\u001b[0m\u001b[37m\u001b[0m \u001b[1m1s\u001b[0m 2ms/step - RootMeanSquaredError: 0.5883 - RootMeanSquaredError_1: 0.6423 - loss: 0.3528 - mse_loss: 0.4128 - val_RootMeanSquaredError: 1.2049 - val_RootMeanSquaredError_1: 1.4579 - val_loss: 1.5192 - val_mse_loss: 2.1246\n",
      "Epoch 3/10\n",
      "\u001b[1m363/363\u001b[0m \u001b[32m━━━━━━━━━━━━━━━━━━━━\u001b[0m\u001b[37m\u001b[0m \u001b[1m1s\u001b[0m 2ms/step - RootMeanSquaredError: 0.5849 - RootMeanSquaredError_1: 0.6394 - loss: 0.3489 - mse_loss: 0.4091 - val_RootMeanSquaredError: 0.6696 - val_RootMeanSquaredError_1: 0.7701 - val_loss: 0.4629 - val_mse_loss: 0.5929\n",
      "Epoch 4/10\n",
      "\u001b[1m363/363\u001b[0m \u001b[32m━━━━━━━━━━━━━━━━━━━━\u001b[0m\u001b[37m\u001b[0m \u001b[1m1s\u001b[0m 2ms/step - RootMeanSquaredError: 0.5805 - RootMeanSquaredError_1: 0.6307 - loss: 0.3432 - mse_loss: 0.3980 - val_RootMeanSquaredError: 0.7968 - val_RootMeanSquaredError_1: 0.8414 - val_loss: 0.6423 - val_mse_loss: 0.7078\n",
      "Epoch 5/10\n",
      "\u001b[1m363/363\u001b[0m \u001b[32m━━━━━━━━━━━━━━━━━━━━\u001b[0m\u001b[37m\u001b[0m \u001b[1m1s\u001b[0m 2ms/step - RootMeanSquaredError: 0.5781 - RootMeanSquaredError_1: 0.6288 - loss: 0.3404 - mse_loss: 0.3956 - val_RootMeanSquaredError: 0.6896 - val_RootMeanSquaredError_1: 0.7555 - val_loss: 0.4851 - val_mse_loss: 0.5707\n",
      "Epoch 6/10\n",
      "\u001b[1m363/363\u001b[0m \u001b[32m━━━━━━━━━━━━━━━━━━━━\u001b[0m\u001b[37m\u001b[0m \u001b[1m1s\u001b[0m 2ms/step - RootMeanSquaredError: 0.5761 - RootMeanSquaredError_1: 0.6264 - loss: 0.3380 - mse_loss: 0.3926 - val_RootMeanSquaredError: 0.9338 - val_RootMeanSquaredError_1: 0.7857 - val_loss: 0.8466 - val_mse_loss: 0.6172\n",
      "Epoch 7/10\n",
      "\u001b[1m363/363\u001b[0m \u001b[32m━━━━━━━━━━━━━━━━━━━━\u001b[0m\u001b[37m\u001b[0m \u001b[1m1s\u001b[0m 2ms/step - RootMeanSquaredError: 0.5751 - RootMeanSquaredError_1: 0.6240 - loss: 0.3367 - mse_loss: 0.3896 - val_RootMeanSquaredError: 0.7896 - val_RootMeanSquaredError_1: 0.8244 - val_loss: 0.6291 - val_mse_loss: 0.6795\n",
      "Epoch 8/10\n",
      "\u001b[1m363/363\u001b[0m \u001b[32m━━━━━━━━━━━━━━━━━━━━\u001b[0m\u001b[37m\u001b[0m \u001b[1m1s\u001b[0m 2ms/step - RootMeanSquaredError: 0.5735 - RootMeanSquaredError_1: 0.6233 - loss: 0.3350 - mse_loss: 0.3887 - val_RootMeanSquaredError: 1.4246 - val_RootMeanSquaredError_1: 1.9956 - val_loss: 2.2248 - val_mse_loss: 3.9806\n",
      "Epoch 9/10\n",
      "\u001b[1m363/363\u001b[0m \u001b[32m━━━━━━━━━━━━━━━━━━━━\u001b[0m\u001b[37m\u001b[0m \u001b[1m1s\u001b[0m 2ms/step - RootMeanSquaredError: 0.5743 - RootMeanSquaredError_1: 0.6288 - loss: 0.3364 - mse_loss: 0.3957 - val_RootMeanSquaredError: 0.8470 - val_RootMeanSquaredError_1: 1.1767 - val_loss: 0.7842 - val_mse_loss: 1.3840\n",
      "Epoch 10/10\n",
      "\u001b[1m363/363\u001b[0m \u001b[32m━━━━━━━━━━━━━━━━━━━━\u001b[0m\u001b[37m\u001b[0m \u001b[1m1s\u001b[0m 3ms/step - RootMeanSquaredError: 0.5724 - RootMeanSquaredError_1: 0.6210 - loss: 0.3335 - mse_loss: 0.3859 - val_RootMeanSquaredError: 1.3540 - val_RootMeanSquaredError_1: 1.3785 - val_loss: 1.8401 - val_mse_loss: 1.8994\n"
     ]
    }
   ],
   "source": [
    "shutil.rmtree(\"my_checkpoints\", ignore_errors=True)\n",
    "\n",
    "checkpoint_cb = tf.keras.callbacks.ModelCheckpoint(\"my_checkpoints.weights.h5\",\n",
    "                                                   save_weights_only=True)\n",
    "history = model.fit(\n",
    "    (X_train_wide, X_train_deep), (y_train, y_train), epochs=10,\n",
    "    validation_data=((X_valid_wide, X_valid_deep), (y_valid, y_valid)),\n",
    "    callbacks=[checkpoint_cb])"
   ]
  },
  {
   "cell_type": "code",
   "execution_count": 86,
   "id": "9f92b176",
   "metadata": {},
   "outputs": [
    {
     "name": "stdout",
     "output_type": "stream",
     "text": [
      "Epoch 1/100\n",
      "\u001b[1m363/363\u001b[0m \u001b[32m━━━━━━━━━━━━━━━━━━━━\u001b[0m\u001b[37m\u001b[0m \u001b[1m1s\u001b[0m 2ms/step - RootMeanSquaredError: 0.5706 - RootMeanSquaredError_1: 0.6178 - loss: 0.3313 - mse_loss: 0.3819 - val_RootMeanSquaredError: 0.7781 - val_RootMeanSquaredError_1: 0.9504 - val_loss: 0.6352 - val_mse_loss: 0.9030\n",
      "Epoch 2/100\n",
      "\u001b[1m363/363\u001b[0m \u001b[32m━━━━━━━━━━━━━━━━━━━━\u001b[0m\u001b[37m\u001b[0m \u001b[1m1s\u001b[0m 2ms/step - RootMeanSquaredError: 0.5680 - RootMeanSquaredError_1: 0.6159 - loss: 0.3283 - mse_loss: 0.3795 - val_RootMeanSquaredError: 1.2878 - val_RootMeanSquaredError_1: 1.0906 - val_loss: 1.6115 - val_mse_loss: 1.1889\n",
      "Epoch 3/100\n",
      "\u001b[1m363/363\u001b[0m \u001b[32m━━━━━━━━━━━━━━━━━━━━\u001b[0m\u001b[37m\u001b[0m \u001b[1m1s\u001b[0m 2ms/step - RootMeanSquaredError: 0.5680 - RootMeanSquaredError_1: 0.6125 - loss: 0.3280 - mse_loss: 0.3754 - val_RootMeanSquaredError: 0.8504 - val_RootMeanSquaredError_1: 0.9419 - val_loss: 0.7395 - val_mse_loss: 0.8868\n",
      "Epoch 4/100\n",
      "\u001b[1m363/363\u001b[0m \u001b[32m━━━━━━━━━━━━━━━━━━━━\u001b[0m\u001b[37m\u001b[0m \u001b[1m1s\u001b[0m 2ms/step - RootMeanSquaredError: 0.5666 - RootMeanSquaredError_1: 0.6122 - loss: 0.3265 - mse_loss: 0.3750 - val_RootMeanSquaredError: 1.0759 - val_RootMeanSquaredError_1: 1.3185 - val_loss: 1.2156 - val_mse_loss: 1.7377\n",
      "Epoch 5/100\n",
      "\u001b[1m363/363\u001b[0m \u001b[32m━━━━━━━━━━━━━━━━━━━━\u001b[0m\u001b[37m\u001b[0m \u001b[1m1s\u001b[0m 2ms/step - RootMeanSquaredError: 0.5640 - RootMeanSquaredError_1: 0.6102 - loss: 0.3236 - mse_loss: 0.3725 - val_RootMeanSquaredError: 0.6457 - val_RootMeanSquaredError_1: 0.7160 - val_loss: 0.4265 - val_mse_loss: 0.5126\n",
      "Epoch 6/100\n",
      "\u001b[1m363/363\u001b[0m \u001b[32m━━━━━━━━━━━━━━━━━━━━\u001b[0m\u001b[37m\u001b[0m \u001b[1m1s\u001b[0m 2ms/step - RootMeanSquaredError: 0.5622 - RootMeanSquaredError_1: 0.6070 - loss: 0.3214 - mse_loss: 0.3685 - val_RootMeanSquaredError: 0.9774 - val_RootMeanSquaredError_1: 0.9835 - val_loss: 0.9566 - val_mse_loss: 0.9670\n",
      "Epoch 7/100\n",
      "\u001b[1m363/363\u001b[0m \u001b[32m━━━━━━━━━━━━━━━━━━━━\u001b[0m\u001b[37m\u001b[0m \u001b[1m1s\u001b[0m 2ms/step - RootMeanSquaredError: 0.5624 - RootMeanSquaredError_1: 0.6064 - loss: 0.3215 - mse_loss: 0.3679 - val_RootMeanSquaredError: 0.7549 - val_RootMeanSquaredError_1: 0.8160 - val_loss: 0.5795 - val_mse_loss: 0.6657\n",
      "Epoch 8/100\n",
      "\u001b[1m363/363\u001b[0m \u001b[32m━━━━━━━━━━━━━━━━━━━━\u001b[0m\u001b[37m\u001b[0m \u001b[1m1s\u001b[0m 2ms/step - RootMeanSquaredError: 0.5611 - RootMeanSquaredError_1: 0.6045 - loss: 0.3200 - mse_loss: 0.3655 - val_RootMeanSquaredError: 1.0126 - val_RootMeanSquaredError_1: 1.2046 - val_loss: 1.0680 - val_mse_loss: 1.4505\n",
      "Epoch 9/100\n",
      "\u001b[1m363/363\u001b[0m \u001b[32m━━━━━━━━━━━━━━━━━━━━\u001b[0m\u001b[37m\u001b[0m \u001b[1m1s\u001b[0m 2ms/step - RootMeanSquaredError: 0.5597 - RootMeanSquaredError_1: 0.6044 - loss: 0.3185 - mse_loss: 0.3654 - val_RootMeanSquaredError: 0.6511 - val_RootMeanSquaredError_1: 0.7202 - val_loss: 0.4334 - val_mse_loss: 0.5185\n",
      "Epoch 10/100\n",
      "\u001b[1m363/363\u001b[0m \u001b[32m━━━━━━━━━━━━━━━━━━━━\u001b[0m\u001b[37m\u001b[0m \u001b[1m1s\u001b[0m 2ms/step - RootMeanSquaredError: 0.5582 - RootMeanSquaredError_1: 0.6017 - loss: 0.3167 - mse_loss: 0.3621 - val_RootMeanSquaredError: 0.8808 - val_RootMeanSquaredError_1: 1.0257 - val_loss: 0.8035 - val_mse_loss: 1.0517\n",
      "Epoch 11/100\n",
      "\u001b[1m363/363\u001b[0m \u001b[32m━━━━━━━━━━━━━━━━━━━━\u001b[0m\u001b[37m\u001b[0m \u001b[1m1s\u001b[0m 2ms/step - RootMeanSquaredError: 0.5573 - RootMeanSquaredError_1: 0.6009 - loss: 0.3158 - mse_loss: 0.3612 - val_RootMeanSquaredError: 0.6388 - val_RootMeanSquaredError_1: 0.6984 - val_loss: 0.4160 - val_mse_loss: 0.4876\n",
      "Epoch 12/100\n",
      "\u001b[1m363/363\u001b[0m \u001b[32m━━━━━━━━━━━━━━━━━━━━\u001b[0m\u001b[37m\u001b[0m \u001b[1m1s\u001b[0m 2ms/step - RootMeanSquaredError: 0.5564 - RootMeanSquaredError_1: 0.5992 - loss: 0.3146 - mse_loss: 0.3592 - val_RootMeanSquaredError: 0.8959 - val_RootMeanSquaredError_1: 1.0249 - val_loss: 0.8274 - val_mse_loss: 1.0501\n",
      "Epoch 13/100\n",
      "\u001b[1m363/363\u001b[0m \u001b[32m━━━━━━━━━━━━━━━━━━━━\u001b[0m\u001b[37m\u001b[0m \u001b[1m1s\u001b[0m 2ms/step - RootMeanSquaredError: 0.5556 - RootMeanSquaredError_1: 0.5982 - loss: 0.3137 - mse_loss: 0.3579 - val_RootMeanSquaredError: 0.6644 - val_RootMeanSquaredError_1: 0.7143 - val_loss: 0.4483 - val_mse_loss: 0.5102\n",
      "Epoch 14/100\n",
      "\u001b[1m363/363\u001b[0m \u001b[32m━━━━━━━━━━━━━━━━━━━━\u001b[0m\u001b[37m\u001b[0m \u001b[1m1s\u001b[0m 2ms/step - RootMeanSquaredError: 0.5551 - RootMeanSquaredError_1: 0.5977 - loss: 0.3131 - mse_loss: 0.3573 - val_RootMeanSquaredError: 1.1154 - val_RootMeanSquaredError_1: 1.0543 - val_loss: 1.2309 - val_mse_loss: 1.1112\n",
      "Epoch 15/100\n",
      "\u001b[1m363/363\u001b[0m \u001b[32m━━━━━━━━━━━━━━━━━━━━\u001b[0m\u001b[37m\u001b[0m \u001b[1m1s\u001b[0m 2ms/step - RootMeanSquaredError: 0.5554 - RootMeanSquaredError_1: 0.5961 - loss: 0.3133 - mse_loss: 0.3555 - val_RootMeanSquaredError: 0.8831 - val_RootMeanSquaredError_1: 0.9154 - val_loss: 0.7857 - val_mse_loss: 0.8377\n",
      "Epoch 16/100\n",
      "\u001b[1m363/363\u001b[0m \u001b[32m━━━━━━━━━━━━━━━━━━━━\u001b[0m\u001b[37m\u001b[0m \u001b[1m1s\u001b[0m 2ms/step - RootMeanSquaredError: 0.5544 - RootMeanSquaredError_1: 0.5960 - loss: 0.3122 - mse_loss: 0.3553 - val_RootMeanSquaredError: 1.0050 - val_RootMeanSquaredError_1: 1.1898 - val_loss: 1.0506 - val_mse_loss: 1.4152\n",
      "Epoch 17/100\n",
      "\u001b[1m363/363\u001b[0m \u001b[32m━━━━━━━━━━━━━━━━━━━━\u001b[0m\u001b[37m\u001b[0m \u001b[1m1s\u001b[0m 3ms/step - RootMeanSquaredError: 0.5528 - RootMeanSquaredError_1: 0.5951 - loss: 0.3105 - mse_loss: 0.3543 - val_RootMeanSquaredError: 0.5889 - val_RootMeanSquaredError_1: 0.6301 - val_loss: 0.3518 - val_mse_loss: 0.3970\n",
      "Epoch 18/100\n",
      "\u001b[1m363/363\u001b[0m \u001b[32m━━━━━━━━━━━━━━━━━━━━\u001b[0m\u001b[37m\u001b[0m \u001b[1m1s\u001b[0m 2ms/step - RootMeanSquaredError: 0.5505 - RootMeanSquaredError_1: 0.5914 - loss: 0.3078 - mse_loss: 0.3498 - val_RootMeanSquaredError: 0.7210 - val_RootMeanSquaredError_1: 0.8367 - val_loss: 0.5379 - val_mse_loss: 0.6999\n",
      "Epoch 19/100\n",
      "\u001b[1m363/363\u001b[0m \u001b[32m━━━━━━━━━━━━━━━━━━━━\u001b[0m\u001b[37m\u001b[0m \u001b[1m1s\u001b[0m 2ms/step - RootMeanSquaredError: 0.5495 - RootMeanSquaredError_1: 0.5907 - loss: 0.3067 - mse_loss: 0.3490 - val_RootMeanSquaredError: 0.5577 - val_RootMeanSquaredError_1: 0.6032 - val_loss: 0.3163 - val_mse_loss: 0.3638\n",
      "Epoch 20/100\n",
      "\u001b[1m363/363\u001b[0m \u001b[32m━━━━━━━━━━━━━━━━━━━━\u001b[0m\u001b[37m\u001b[0m \u001b[1m1s\u001b[0m 2ms/step - RootMeanSquaredError: 0.5487 - RootMeanSquaredError_1: 0.5896 - loss: 0.3058 - mse_loss: 0.3477 - val_RootMeanSquaredError: 0.7033 - val_RootMeanSquaredError_1: 0.8169 - val_loss: 0.5119 - val_mse_loss: 0.6672\n",
      "Epoch 21/100\n",
      "\u001b[1m363/363\u001b[0m \u001b[32m━━━━━━━━━━━━━━━━━━━━\u001b[0m\u001b[37m\u001b[0m \u001b[1m1s\u001b[0m 2ms/step - RootMeanSquaredError: 0.5481 - RootMeanSquaredError_1: 0.5891 - loss: 0.3052 - mse_loss: 0.3472 - val_RootMeanSquaredError: 0.5997 - val_RootMeanSquaredError_1: 0.6326 - val_loss: 0.3637 - val_mse_loss: 0.4002\n",
      "Epoch 22/100\n",
      "\u001b[1m363/363\u001b[0m \u001b[32m━━━━━━━━━━━━━━━━━━━━\u001b[0m\u001b[37m\u001b[0m \u001b[1m1s\u001b[0m 3ms/step - RootMeanSquaredError: 0.5471 - RootMeanSquaredError_1: 0.5874 - loss: 0.3040 - mse_loss: 0.3451 - val_RootMeanSquaredError: 0.8627 - val_RootMeanSquaredError_1: 0.8839 - val_loss: 0.7479 - val_mse_loss: 0.7810\n",
      "Epoch 23/100\n",
      "\u001b[1m363/363\u001b[0m \u001b[32m━━━━━━━━━━━━━━━━━━━━\u001b[0m\u001b[37m\u001b[0m \u001b[1m1s\u001b[0m 3ms/step - RootMeanSquaredError: 0.5478 - RootMeanSquaredError_1: 0.5875 - loss: 0.3047 - mse_loss: 0.3452 - val_RootMeanSquaredError: 0.8863 - val_RootMeanSquaredError_1: 0.9152 - val_loss: 0.7907 - val_mse_loss: 0.8374\n",
      "Epoch 24/100\n",
      "\u001b[1m363/363\u001b[0m \u001b[32m━━━━━━━━━━━━━━━━━━━━\u001b[0m\u001b[37m\u001b[0m \u001b[1m1s\u001b[0m 3ms/step - RootMeanSquaredError: 0.5480 - RootMeanSquaredError_1: 0.5878 - loss: 0.3049 - mse_loss: 0.3456 - val_RootMeanSquaredError: 1.1499 - val_RootMeanSquaredError_1: 1.3818 - val_loss: 1.3810 - val_mse_loss: 1.9085\n",
      "Epoch 25/100\n",
      "\u001b[1m363/363\u001b[0m \u001b[32m━━━━━━━━━━━━━━━━━━━━\u001b[0m\u001b[37m\u001b[0m \u001b[1m1s\u001b[0m 2ms/step - RootMeanSquaredError: 0.5475 - RootMeanSquaredError_1: 0.5884 - loss: 0.3044 - mse_loss: 0.3463 - val_RootMeanSquaredError: 0.6534 - val_RootMeanSquaredError_1: 0.7069 - val_loss: 0.4342 - val_mse_loss: 0.4997\n",
      "Epoch 26/100\n",
      "\u001b[1m363/363\u001b[0m \u001b[32m━━━━━━━━━━━━━━━━━━━━\u001b[0m\u001b[37m\u001b[0m \u001b[1m1s\u001b[0m 3ms/step - RootMeanSquaredError: 0.5452 - RootMeanSquaredError_1: 0.5850 - loss: 0.3019 - mse_loss: 0.3423 - val_RootMeanSquaredError: 0.8099 - val_RootMeanSquaredError_1: 0.9135 - val_loss: 0.6738 - val_mse_loss: 0.8342\n",
      "Epoch 27/100\n",
      "\u001b[1m363/363\u001b[0m \u001b[32m━━━━━━━━━━━━━━━━━━━━\u001b[0m\u001b[37m\u001b[0m \u001b[1m1s\u001b[0m 3ms/step - RootMeanSquaredError: 0.5443 - RootMeanSquaredError_1: 0.5832 - loss: 0.3007 - mse_loss: 0.3402 - val_RootMeanSquaredError: 0.5521 - val_RootMeanSquaredError_1: 0.5990 - val_loss: 0.3102 - val_mse_loss: 0.3588\n",
      "Epoch 28/100\n",
      "\u001b[1m363/363\u001b[0m \u001b[32m━━━━━━━━━━━━━━━━━━━━\u001b[0m\u001b[37m\u001b[0m \u001b[1m1s\u001b[0m 3ms/step - RootMeanSquaredError: 0.5428 - RootMeanSquaredError_1: 0.5816 - loss: 0.2990 - mse_loss: 0.3383 - val_RootMeanSquaredError: 0.6922 - val_RootMeanSquaredError_1: 0.7795 - val_loss: 0.4919 - val_mse_loss: 0.6075\n",
      "Epoch 29/100\n",
      "\u001b[1m363/363\u001b[0m \u001b[32m━━━━━━━━━━━━━━━━━━━━\u001b[0m\u001b[37m\u001b[0m \u001b[1m1s\u001b[0m 2ms/step - RootMeanSquaredError: 0.5424 - RootMeanSquaredError_1: 0.5812 - loss: 0.2987 - mse_loss: 0.3379 - val_RootMeanSquaredError: 0.5563 - val_RootMeanSquaredError_1: 0.6016 - val_loss: 0.3147 - val_mse_loss: 0.3620\n",
      "Epoch 30/100\n",
      "\u001b[1m363/363\u001b[0m \u001b[32m━━━━━━━━━━━━━━━━━━━━\u001b[0m\u001b[37m\u001b[0m \u001b[1m1s\u001b[0m 3ms/step - RootMeanSquaredError: 0.5419 - RootMeanSquaredError_1: 0.5804 - loss: 0.2980 - mse_loss: 0.3369 - val_RootMeanSquaredError: 0.7311 - val_RootMeanSquaredError_1: 0.8230 - val_loss: 0.5488 - val_mse_loss: 0.6772\n",
      "Epoch 31/100\n",
      "\u001b[1m363/363\u001b[0m \u001b[32m━━━━━━━━━━━━━━━━━━━━\u001b[0m\u001b[37m\u001b[0m \u001b[1m1s\u001b[0m 2ms/step - RootMeanSquaredError: 0.5415 - RootMeanSquaredError_1: 0.5797 - loss: 0.2976 - mse_loss: 0.3361 - val_RootMeanSquaredError: 0.5997 - val_RootMeanSquaredError_1: 0.6510 - val_loss: 0.3661 - val_mse_loss: 0.4238\n",
      "Epoch 32/100\n",
      "\u001b[1m363/363\u001b[0m \u001b[32m━━━━━━━━━━━━━━━━━━━━\u001b[0m\u001b[37m\u001b[0m \u001b[1m1s\u001b[0m 3ms/step - RootMeanSquaredError: 0.5415 - RootMeanSquaredError_1: 0.5795 - loss: 0.2976 - mse_loss: 0.3360 - val_RootMeanSquaredError: 0.9899 - val_RootMeanSquaredError_1: 0.9562 - val_loss: 0.9733 - val_mse_loss: 0.9140\n",
      "Epoch 33/100\n",
      "\u001b[1m363/363\u001b[0m \u001b[32m━━━━━━━━━━━━━━━━━━━━\u001b[0m\u001b[37m\u001b[0m \u001b[1m1s\u001b[0m 3ms/step - RootMeanSquaredError: 0.5416 - RootMeanSquaredError_1: 0.5788 - loss: 0.2976 - mse_loss: 0.3351 - val_RootMeanSquaredError: 0.7369 - val_RootMeanSquaredError_1: 0.7784 - val_loss: 0.5493 - val_mse_loss: 0.6058\n",
      "Epoch 34/100\n",
      "\u001b[1m363/363\u001b[0m \u001b[32m━━━━━━━━━━━━━━━━━━━━\u001b[0m\u001b[37m\u001b[0m \u001b[1m1s\u001b[0m 3ms/step - RootMeanSquaredError: 0.5416 - RootMeanSquaredError_1: 0.5793 - loss: 0.2976 - mse_loss: 0.3357 - val_RootMeanSquaredError: 0.9042 - val_RootMeanSquaredError_1: 1.1460 - val_loss: 0.8672 - val_mse_loss: 1.3129\n",
      "Epoch 35/100\n",
      "\u001b[1m363/363\u001b[0m \u001b[32m━━━━━━━━━━━━━━━━━━━━\u001b[0m\u001b[37m\u001b[0m \u001b[1m1s\u001b[0m 3ms/step - RootMeanSquaredError: 0.5401 - RootMeanSquaredError_1: 0.5786 - loss: 0.2961 - mse_loss: 0.3349 - val_RootMeanSquaredError: 0.5508 - val_RootMeanSquaredError_1: 0.6056 - val_loss: 0.3097 - val_mse_loss: 0.3667\n",
      "Epoch 36/100\n",
      "\u001b[1m363/363\u001b[0m \u001b[32m━━━━━━━━━━━━━━━━━━━━\u001b[0m\u001b[37m\u001b[0m \u001b[1m1s\u001b[0m 3ms/step - RootMeanSquaredError: 0.5387 - RootMeanSquaredError_1: 0.5762 - loss: 0.2945 - mse_loss: 0.3320 - val_RootMeanSquaredError: 0.6973 - val_RootMeanSquaredError_1: 0.7941 - val_loss: 0.5007 - val_mse_loss: 0.6304\n",
      "Epoch 37/100\n",
      "\u001b[1m363/363\u001b[0m \u001b[32m━━━━━━━━━━━━━━━━━━━━\u001b[0m\u001b[37m\u001b[0m \u001b[1m1s\u001b[0m 3ms/step - RootMeanSquaredError: 0.5380 - RootMeanSquaredError_1: 0.5755 - loss: 0.2937 - mse_loss: 0.3313 - val_RootMeanSquaredError: 0.5369 - val_RootMeanSquaredError_1: 0.5908 - val_loss: 0.2943 - val_mse_loss: 0.3491\n",
      "Epoch 38/100\n",
      "\u001b[1m363/363\u001b[0m \u001b[32m━━━━━━━━━━━━━━━━━━━━\u001b[0m\u001b[37m\u001b[0m \u001b[1m1s\u001b[0m 3ms/step - RootMeanSquaredError: 0.5380 - RootMeanSquaredError_1: 0.5753 - loss: 0.2937 - mse_loss: 0.3311 - val_RootMeanSquaredError: 0.6861 - val_RootMeanSquaredError_1: 0.7549 - val_loss: 0.4807 - val_mse_loss: 0.5697\n",
      "Epoch 39/100\n",
      "\u001b[1m363/363\u001b[0m \u001b[32m━━━━━━━━━━━━━━━━━━━━\u001b[0m\u001b[37m\u001b[0m \u001b[1m1s\u001b[0m 4ms/step - RootMeanSquaredError: 0.5369 - RootMeanSquaredError_1: 0.5742 - loss: 0.2925 - mse_loss: 0.3297 - val_RootMeanSquaredError: 0.5814 - val_RootMeanSquaredError_1: 0.6163 - val_loss: 0.3422 - val_mse_loss: 0.3798\n",
      "Epoch 40/100\n",
      "\u001b[1m363/363\u001b[0m \u001b[32m━━━━━━━━━━━━━━━━━━━━\u001b[0m\u001b[37m\u001b[0m \u001b[1m1s\u001b[0m 4ms/step - RootMeanSquaredError: 0.5365 - RootMeanSquaredError_1: 0.5736 - loss: 0.2920 - mse_loss: 0.3291 - val_RootMeanSquaredError: 0.8390 - val_RootMeanSquaredError_1: 0.9653 - val_loss: 0.7268 - val_mse_loss: 0.9315\n",
      "Epoch 41/100\n",
      "\u001b[1m363/363\u001b[0m \u001b[32m━━━━━━━━━━━━━━━━━━━━\u001b[0m\u001b[37m\u001b[0m \u001b[1m1s\u001b[0m 3ms/step - RootMeanSquaredError: 0.5367 - RootMeanSquaredError_1: 0.5740 - loss: 0.2923 - mse_loss: 0.3296 - val_RootMeanSquaredError: 0.6343 - val_RootMeanSquaredError_1: 0.6921 - val_loss: 0.4099 - val_mse_loss: 0.4788\n",
      "Epoch 42/100\n",
      "\u001b[1m363/363\u001b[0m \u001b[32m━━━━━━━━━━━━━━━━━━━━\u001b[0m\u001b[37m\u001b[0m \u001b[1m1s\u001b[0m 3ms/step - RootMeanSquaredError: 0.5355 - RootMeanSquaredError_1: 0.5729 - loss: 0.2910 - mse_loss: 0.3283 - val_RootMeanSquaredError: 0.9159 - val_RootMeanSquaredError_1: 0.9282 - val_loss: 0.8412 - val_mse_loss: 0.8612\n",
      "Epoch 43/100\n",
      "\u001b[1m363/363\u001b[0m \u001b[32m━━━━━━━━━━━━━━━━━━━━\u001b[0m\u001b[37m\u001b[0m \u001b[1m1s\u001b[0m 3ms/step - RootMeanSquaredError: 0.5363 - RootMeanSquaredError_1: 0.5729 - loss: 0.2917 - mse_loss: 0.3283 - val_RootMeanSquaredError: 0.6639 - val_RootMeanSquaredError_1: 0.6744 - val_loss: 0.4422 - val_mse_loss: 0.4547\n",
      "Epoch 44/100\n",
      "\u001b[1m363/363\u001b[0m \u001b[32m━━━━━━━━━━━━━━━━━━━━\u001b[0m\u001b[37m\u001b[0m \u001b[1m1s\u001b[0m 3ms/step - RootMeanSquaredError: 0.5350 - RootMeanSquaredError_1: 0.5715 - loss: 0.2903 - mse_loss: 0.3267 - val_RootMeanSquaredError: 0.8502 - val_RootMeanSquaredError_1: 0.9869 - val_loss: 0.7480 - val_mse_loss: 0.9737\n",
      "Epoch 45/100\n",
      "\u001b[1m363/363\u001b[0m \u001b[32m━━━━━━━━━━━━━━━━━━━━\u001b[0m\u001b[37m\u001b[0m \u001b[1m1s\u001b[0m 3ms/step - RootMeanSquaredError: 0.5347 - RootMeanSquaredError_1: 0.5720 - loss: 0.2901 - mse_loss: 0.3273 - val_RootMeanSquaredError: 0.5984 - val_RootMeanSquaredError_1: 0.6358 - val_loss: 0.3627 - val_mse_loss: 0.4042\n",
      "Epoch 46/100\n",
      "\u001b[1m363/363\u001b[0m \u001b[32m━━━━━━━━━━━━━━━━━━━━\u001b[0m\u001b[37m\u001b[0m \u001b[1m1s\u001b[0m 3ms/step - RootMeanSquaredError: 0.5338 - RootMeanSquaredError_1: 0.5703 - loss: 0.2890 - mse_loss: 0.3254 - val_RootMeanSquaredError: 0.7644 - val_RootMeanSquaredError_1: 0.8531 - val_loss: 0.5986 - val_mse_loss: 0.7275\n",
      "Epoch 47/100\n",
      "\u001b[1m363/363\u001b[0m \u001b[32m━━━━━━━━━━━━━━━━━━━━\u001b[0m\u001b[37m\u001b[0m \u001b[1m1s\u001b[0m 3ms/step - RootMeanSquaredError: 0.5329 - RootMeanSquaredError_1: 0.5696 - loss: 0.2881 - mse_loss: 0.3246 - val_RootMeanSquaredError: 0.5666 - val_RootMeanSquaredError_1: 0.5980 - val_loss: 0.3247 - val_mse_loss: 0.3575\n"
     ]
    }
   ],
   "source": [
    "early_stopping_cb = tf.keras.callbacks.EarlyStopping(patience=10,\n",
    "                                                     restore_best_weights=True)\n",
    "history = model.fit(\n",
    "    (X_train_wide, X_train_deep), (y_train, y_train), epochs=100,\n",
    "    validation_data=((X_valid_wide, X_valid_deep), (y_valid, y_valid)),\n",
    "    callbacks=[checkpoint_cb, early_stopping_cb])"
   ]
  },
  {
   "cell_type": "markdown",
   "id": "6f6d7b35",
   "metadata": {},
   "source": [
    "## 텐서보드로 시각화 하기 \n",
    "### 텐서보드 란? \n",
    "> 인터렉티브 시각화 도구 "
   ]
  },
  {
   "cell_type": "code",
   "execution_count": 88,
   "id": "58cf684f",
   "metadata": {},
   "outputs": [],
   "source": [
    "from pathlib import Path\n",
    "from time import strftime\n",
    "\n",
    "def get_run_logdir(root_logdir=\"my_logs\"):\n",
    "    return Path(root_logdir) / strftime(\"run_%Y_%m_%d_%H_%M_%S\")\n",
    "\n",
    "run_logdir = get_run_logdir()"
   ]
  },
  {
   "cell_type": "code",
   "execution_count": 89,
   "id": "1e046798",
   "metadata": {},
   "outputs": [
    {
     "name": "stdout",
     "output_type": "stream",
     "text": [
      "Epoch 1/20\n",
      "\u001b[1m363/363\u001b[0m \u001b[32m━━━━━━━━━━━━━━━━━━━━\u001b[0m\u001b[37m\u001b[0m \u001b[1m2s\u001b[0m 3ms/step - RootMeanSquaredError: 1.8060 - loss: 3.3472 - val_RootMeanSquaredError: 1.0139 - val_loss: 1.0280\n",
      "Epoch 2/20\n",
      "\u001b[1m363/363\u001b[0m \u001b[32m━━━━━━━━━━━━━━━━━━━━\u001b[0m\u001b[37m\u001b[0m \u001b[1m1s\u001b[0m 2ms/step - RootMeanSquaredError: 0.9654 - loss: 0.9345 - val_RootMeanSquaredError: 0.8032 - val_loss: 0.6452\n",
      "Epoch 3/20\n",
      "\u001b[1m363/363\u001b[0m \u001b[32m━━━━━━━━━━━━━━━━━━━━\u001b[0m\u001b[37m\u001b[0m \u001b[1m1s\u001b[0m 2ms/step - RootMeanSquaredError: 0.8289 - loss: 0.6890 - val_RootMeanSquaredError: 0.7417 - val_loss: 0.5501\n",
      "Epoch 4/20\n",
      "\u001b[1m363/363\u001b[0m \u001b[32m━━━━━━━━━━━━━━━━━━━━\u001b[0m\u001b[37m\u001b[0m \u001b[1m1s\u001b[0m 2ms/step - RootMeanSquaredError: 0.7773 - loss: 0.6057 - val_RootMeanSquaredError: 0.7129 - val_loss: 0.5082\n",
      "Epoch 5/20\n",
      "\u001b[1m363/363\u001b[0m \u001b[32m━━━━━━━━━━━━━━━━━━━━\u001b[0m\u001b[37m\u001b[0m \u001b[1m1s\u001b[0m 2ms/step - RootMeanSquaredError: 0.7489 - loss: 0.5622 - val_RootMeanSquaredError: 0.6965 - val_loss: 0.4851\n",
      "Epoch 6/20\n",
      "\u001b[1m363/363\u001b[0m \u001b[32m━━━━━━━━━━━━━━━━━━━━\u001b[0m\u001b[37m\u001b[0m \u001b[1m1s\u001b[0m 3ms/step - RootMeanSquaredError: 0.7294 - loss: 0.5333 - val_RootMeanSquaredError: 0.6865 - val_loss: 0.4712\n",
      "Epoch 7/20\n",
      "\u001b[1m363/363\u001b[0m \u001b[32m━━━━━━━━━━━━━━━━━━━━\u001b[0m\u001b[37m\u001b[0m \u001b[1m1s\u001b[0m 2ms/step - RootMeanSquaredError: 0.7148 - loss: 0.5120 - val_RootMeanSquaredError: 0.6812 - val_loss: 0.4640\n",
      "Epoch 8/20\n",
      "\u001b[1m363/363\u001b[0m \u001b[32m━━━━━━━━━━━━━━━━━━━━\u001b[0m\u001b[37m\u001b[0m \u001b[1m1s\u001b[0m 2ms/step - RootMeanSquaredError: 0.7032 - loss: 0.4954 - val_RootMeanSquaredError: 0.6786 - val_loss: 0.4605\n",
      "Epoch 9/20\n",
      "\u001b[1m363/363\u001b[0m \u001b[32m━━━━━━━━━━━━━━━━━━━━\u001b[0m\u001b[37m\u001b[0m \u001b[1m1s\u001b[0m 3ms/step - RootMeanSquaredError: 0.6939 - loss: 0.4823 - val_RootMeanSquaredError: 0.6771 - val_loss: 0.4584\n",
      "Epoch 10/20\n",
      "\u001b[1m363/363\u001b[0m \u001b[32m━━━━━━━━━━━━━━━━━━━━\u001b[0m\u001b[37m\u001b[0m \u001b[1m1s\u001b[0m 3ms/step - RootMeanSquaredError: 0.6862 - loss: 0.4716 - val_RootMeanSquaredError: 0.6761 - val_loss: 0.4570\n",
      "Epoch 11/20\n",
      "\u001b[1m363/363\u001b[0m \u001b[32m━━━━━━━━━━━━━━━━━━━━\u001b[0m\u001b[37m\u001b[0m \u001b[1m1s\u001b[0m 3ms/step - RootMeanSquaredError: 0.6798 - loss: 0.4628 - val_RootMeanSquaredError: 0.6745 - val_loss: 0.4549\n",
      "Epoch 12/20\n",
      "\u001b[1m363/363\u001b[0m \u001b[32m━━━━━━━━━━━━━━━━━━━━\u001b[0m\u001b[37m\u001b[0m \u001b[1m1s\u001b[0m 2ms/step - RootMeanSquaredError: 0.6744 - loss: 0.4554 - val_RootMeanSquaredError: 0.6735 - val_loss: 0.4537\n",
      "Epoch 13/20\n",
      "\u001b[1m363/363\u001b[0m \u001b[32m━━━━━━━━━━━━━━━━━━━━\u001b[0m\u001b[37m\u001b[0m \u001b[1m1s\u001b[0m 3ms/step - RootMeanSquaredError: 0.6697 - loss: 0.4490 - val_RootMeanSquaredError: 0.6721 - val_loss: 0.4517\n",
      "Epoch 14/20\n",
      "\u001b[1m363/363\u001b[0m \u001b[32m━━━━━━━━━━━━━━━━━━━━\u001b[0m\u001b[37m\u001b[0m \u001b[1m1s\u001b[0m 2ms/step - RootMeanSquaredError: 0.6656 - loss: 0.4435 - val_RootMeanSquaredError: 0.6705 - val_loss: 0.4496\n",
      "Epoch 15/20\n",
      "\u001b[1m363/363\u001b[0m \u001b[32m━━━━━━━━━━━━━━━━━━━━\u001b[0m\u001b[37m\u001b[0m \u001b[1m1s\u001b[0m 3ms/step - RootMeanSquaredError: 0.6620 - loss: 0.4387 - val_RootMeanSquaredError: 0.6695 - val_loss: 0.4483\n",
      "Epoch 16/20\n",
      "\u001b[1m363/363\u001b[0m \u001b[32m━━━━━━━━━━━━━━━━━━━━\u001b[0m\u001b[37m\u001b[0m \u001b[1m1s\u001b[0m 3ms/step - RootMeanSquaredError: 0.6587 - loss: 0.4344 - val_RootMeanSquaredError: 0.6682 - val_loss: 0.4464\n",
      "Epoch 17/20\n",
      "\u001b[1m363/363\u001b[0m \u001b[32m━━━━━━━━━━━━━━━━━━━━\u001b[0m\u001b[37m\u001b[0m \u001b[1m1s\u001b[0m 3ms/step - RootMeanSquaredError: 0.6559 - loss: 0.4306 - val_RootMeanSquaredError: 0.6719 - val_loss: 0.4515\n",
      "Epoch 18/20\n",
      "\u001b[1m363/363\u001b[0m \u001b[32m━━━━━━━━━━━━━━━━━━━━\u001b[0m\u001b[37m\u001b[0m \u001b[1m1s\u001b[0m 3ms/step - RootMeanSquaredError: 0.6532 - loss: 0.4270 - val_RootMeanSquaredError: 0.6730 - val_loss: 0.4530\n",
      "Epoch 19/20\n",
      "\u001b[1m363/363\u001b[0m \u001b[32m━━━━━━━━━━━━━━━━━━━━\u001b[0m\u001b[37m\u001b[0m \u001b[1m1s\u001b[0m 3ms/step - RootMeanSquaredError: 0.6508 - loss: 0.4239 - val_RootMeanSquaredError: 0.6735 - val_loss: 0.4536\n",
      "Epoch 20/20\n",
      "\u001b[1m363/363\u001b[0m \u001b[32m━━━━━━━━━━━━━━━━━━━━\u001b[0m\u001b[37m\u001b[0m \u001b[1m1s\u001b[0m 4ms/step - RootMeanSquaredError: 0.6485 - loss: 0.4209 - val_RootMeanSquaredError: 0.6732 - val_loss: 0.4533\n",
      "my_logs\n",
      "  run_2025_07_15_00_38_49\n",
      "    train\n",
      "      events.out.tfevents.1752507532.DONGMIN.29076.0.v2\n",
      "      plugins\n",
      "        profile\n",
      "          2025_07_14_15_38_54\n",
      "            DONGMIN.xplane.pb\n",
      "    validation\n",
      "      events.out.tfevents.1752507534.DONGMIN.29076.1.v2\n"
     ]
    }
   ],
   "source": [
    "tf.keras.backend.clear_session()\n",
    "tf.random.set_seed(42)\n",
    "norm_layer = tf.keras.layers.Normalization(input_shape=X_train.shape[1:])\n",
    "model = tf.keras.Sequential([\n",
    "    norm_layer,\n",
    "    tf.keras.layers.Dense(30, activation=\"relu\"),\n",
    "    tf.keras.layers.Dense(30, activation=\"relu\"),\n",
    "    tf.keras.layers.Dense(1)\n",
    "])\n",
    "optimizer = tf.keras.optimizers.SGD(learning_rate=1e-3)\n",
    "model.compile(loss=\"mse\", optimizer=optimizer, metrics=[\"RootMeanSquaredError\"])\n",
    "norm_layer.adapt(X_train)\n",
    "\n",
    "tensorboard_cb = tf.keras.callbacks.TensorBoard(run_logdir,\n",
    "                                                profile_batch=(100, 200))\n",
    "history = model.fit(X_train, y_train, epochs=20,\n",
    "                    validation_data=(X_valid, y_valid),\n",
    "                    callbacks=[tensorboard_cb])\n",
    "\n",
    "print(\"my_logs\")\n",
    "for path in sorted(Path(\"my_logs\").glob(\"**/*\")):\n",
    "    print(\"  \" * (len(path.parts) - 1) + path.parts[-1])"
   ]
  },
  {
   "cell_type": "code",
   "execution_count": 90,
   "id": "88d8c00e",
   "metadata": {},
   "outputs": [
    {
     "data": {
      "text/html": [
       "\n",
       "      <iframe id=\"tensorboard-frame-d19985c8c3144af8\" width=\"100%\" height=\"800\" frameborder=\"0\">\n",
       "      </iframe>\n",
       "      <script>\n",
       "        (function() {\n",
       "          const frame = document.getElementById(\"tensorboard-frame-d19985c8c3144af8\");\n",
       "          const url = new URL(\"/\", window.location);\n",
       "          const port = 6006;\n",
       "          if (port) {\n",
       "            url.port = port;\n",
       "          }\n",
       "          frame.src = url;\n",
       "        })();\n",
       "      </script>\n",
       "    "
      ],
      "text/plain": [
       "<IPython.core.display.HTML object>"
      ]
     },
     "metadata": {},
     "output_type": "display_data"
    }
   ],
   "source": [
    "%load_ext tensorboard\n",
    "%tensorboard --logdir=./my_logs"
   ]
  },
  {
   "cell_type": "code",
   "execution_count": 91,
   "id": "b1a212f9",
   "metadata": {},
   "outputs": [
    {
     "data": {
      "text/html": [
       "<a href=\"http://localhost:6006/\">http://localhost:6006/</a>"
      ],
      "text/plain": [
       "<IPython.core.display.HTML object>"
      ]
     },
     "metadata": {},
     "output_type": "display_data"
    }
   ],
   "source": [
    "if \"google.colab\" in sys.modules:\n",
    "    from google.colab import output\n",
    "\n",
    "    output.serve_kernel_port_as_window(6006)\n",
    "else:\n",
    "    from IPython.display import display, HTML\n",
    "\n",
    "    display(HTML('<a href=\"http://localhost:6006/\">http://localhost:6006/</a>'))"
   ]
  },
  {
   "cell_type": "markdown",
   "id": "e15bf406",
   "metadata": {},
   "source": [
    "# 신경망 하이퍼파라미터 튜닝\n",
    "\n",
    "## 신경망의 유연성 \n",
    "- 조정 할 하이퍼파라미터가 많기 때문에 유연성이 단점이 됨 \n",
    "- GridSearhCV 혹은 RandomizedSearchCV를 사용해 미세 튜닝 가능함 \n",
    "- 하지만 , `케라스 튜너`를 이용해 가능"
   ]
  },
  {
   "cell_type": "code",
   "execution_count": 95,
   "id": "8d22a9e1",
   "metadata": {},
   "outputs": [],
   "source": [
    "### 데이터 셋 로드 \n",
    "(X_train_full, y_train_full), (X_test, y_test) = fashion_mnist\n",
    "X_train, y_train = X_train_full[:-5000], y_train_full[:-5000]\n",
    "X_valid, y_valid = X_train_full[-5000:], y_train_full[-5000:]\n",
    "\n",
    "tf.compat.v1.reset_default_graph()\n",
    "tf.random.set_seed(42)"
   ]
  },
  {
   "cell_type": "markdown",
   "id": "676d02e2",
   "metadata": {},
   "source": [
    "- MNIST 데이터셋을 이용한 MLP 모델 생성 "
   ]
  },
  {
   "cell_type": "code",
   "execution_count": 98,
   "id": "eb32f854",
   "metadata": {},
   "outputs": [],
   "source": [
    "import keras_tuner as kt\n",
    "\n",
    "def build_model(hp):\n",
    "    n_hidden = hp.Int(\"n_hidden\", min_value=0, max_value=8, default=2)\n",
    "    n_neurons = hp.Int(\"n_neurons\", min_value=16, max_value=256)\n",
    "    learning_rate = hp.Float(\"learning_rate\", min_value=1e-4, max_value=1e-2,\n",
    "                             sampling=\"log\")\n",
    "    optimizer = hp.Choice(\"optimizer\", values=[\"sgd\", \"adam\"])\n",
    "    if optimizer == \"sgd\":\n",
    "        optimizer = tf.keras.optimizers.SGD(learning_rate=learning_rate)\n",
    "    else:\n",
    "        optimizer = tf.keras.optimizers.Adam(learning_rate=learning_rate)\n",
    "\n",
    "    model = tf.keras.Sequential()\n",
    "    model.add(tf.keras.layers.Flatten())\n",
    "    for _ in range(n_hidden):\n",
    "        model.add(tf.keras.layers.Dense(n_neurons, activation=\"relu\"))\n",
    "    model.add(tf.keras.layers.Dense(10, activation=\"softmax\"))\n",
    "    model.compile(loss=\"sparse_categorical_crossentropy\", optimizer=optimizer,\n",
    "                  metrics=[\"accuracy\"])\n",
    "    return model"
   ]
  },
  {
   "cell_type": "markdown",
   "id": "89cd4a79",
   "metadata": {},
   "source": [
    "- 랜덤 서치를 수행하여 매서드 호출 "
   ]
  },
  {
   "cell_type": "code",
   "execution_count": 99,
   "id": "97102d16",
   "metadata": {},
   "outputs": [
    {
     "name": "stdout",
     "output_type": "stream",
     "text": [
      "Trial 5 Complete [00h 00m 45s]\n",
      "val_accuracy: 0.8309999704360962\n",
      "\n",
      "Best val_accuracy So Far: 0.8557999730110168\n",
      "Total elapsed time: 00h 03m 54s\n"
     ]
    }
   ],
   "source": [
    "random_search_tuner = kt.RandomSearch(\n",
    "    build_model, objective=\"val_accuracy\", max_trials=5, overwrite=True,\n",
    "    directory=\"my_fashion_mnist\", project_name=\"my_rnd_search\", seed=42)\n",
    "random_search_tuner.search(X_train, y_train, epochs=10,\n",
    "                           validation_data=(X_valid, y_valid))"
   ]
  },
  {
   "cell_type": "code",
   "execution_count": 100,
   "id": "e98e29e9",
   "metadata": {},
   "outputs": [
    {
     "data": {
      "text/plain": [
       "{'n_hidden': 7,\n",
       " 'n_neurons': 100,\n",
       " 'learning_rate': 0.0012482904754698163,\n",
       " 'optimizer': 'sgd'}"
      ]
     },
     "execution_count": 100,
     "metadata": {},
     "output_type": "execute_result"
    }
   ],
   "source": [
    "### 최상의 모델 및 하이퍼 파라미터 출력 \n",
    "top3_models = random_search_tuner.get_best_models(num_models=3)\n",
    "best_model = top3_models[0]\n",
    "top3_params = random_search_tuner.get_best_hyperparameters(num_trials=3)\n",
    "top3_params[0].values"
   ]
  }
 ],
 "metadata": {
  "kernelspec": {
   "display_name": "ml_basic",
   "language": "python",
   "name": "python3"
  },
  "language_info": {
   "codemirror_mode": {
    "name": "ipython",
    "version": 3
   },
   "file_extension": ".py",
   "mimetype": "text/x-python",
   "name": "python",
   "nbconvert_exporter": "python",
   "pygments_lexer": "ipython3",
   "version": "3.12.11"
  }
 },
 "nbformat": 4,
 "nbformat_minor": 5
}
